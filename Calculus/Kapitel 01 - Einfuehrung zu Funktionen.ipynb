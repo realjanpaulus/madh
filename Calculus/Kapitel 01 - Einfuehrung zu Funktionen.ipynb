{
 "cells": [
  {
   "cell_type": "markdown",
   "metadata": {},
   "source": [
    "# Kapitel 1 - Einführung zu Funktionen"
   ]
  },
  {
   "cell_type": "code",
   "execution_count": 1,
   "metadata": {},
   "outputs": [
    {
     "data": {
      "text/html": [
       "<style>/* special fields */\n",
       "\n",
       "\n",
       "/* light blue */ \n",
       "div.digression {    \n",
       "    background-color: #f6f6f6;\n",
       "    border-color: #a1c6de;\n",
       "    border-left: 5px solid #a1c6de;\n",
       "    border-right: 5px solid #a1c6de;\n",
       "    border-top: 5px solid #a1c6de;\n",
       "    border-bottom: 5px solid #a1c6de;\n",
       "    padding: 0.5em;\n",
       "}\n",
       "\n",
       "/* orange */\n",
       "div.note {    \n",
       "    background-color: #f6f6f6;\n",
       "    border-color: #ffb382;\n",
       "    border-left: 5px solid #ffb382;\n",
       "    border-right: 5px solid #ffb382;\n",
       "    border-top: 5px solid #ffb382;\n",
       "    border-bottom: 5px solid #ffb382;\n",
       "    padding: 0.5em;\n",
       "}\n",
       "\n",
       "/* light green */\n",
       "div.task {    \n",
       "    background-color: #f6f6f6;\n",
       "    border-color: #99b898;\n",
       "    border-left: 5px solid #99b898;\n",
       "    border-right: 5px solid #99b898;\n",
       "    border-top: 5px solid #99b898;\n",
       "    border-bottom: 5px solid #99b898;\n",
       "    padding: 0.5em;\n",
       "}\n",
       "\n",
       "div.tool {    \n",
       "    background-color: #f6f6f6;\n",
       "    border-color: #f542e0;\n",
       "    border-left: 7px solid #f542e0;\n",
       "    border-right: 7px solid #f542e0;\n",
       "    border-top: 7px solid #f542e0;\n",
       "    border-bottom: 7px solid #f542e0;\n",
       "    border-style: double;\n",
       "    padding: 0.5em;\n",
       "}\n",
       "\n",
       "/* dark red */\n",
       "div.warn {    \n",
       "    background-color: #f6f6f6;\n",
       "    border-color: #cc1a32;\n",
       "    border-left: 5px solid #cc1a32;\n",
       "    border-right: 5px solid #cc1a32;\n",
       "    border-top: 5px solid #cc1a32;\n",
       "    border-bottom: 5px solid #cc1a32;\n",
       "    padding: 0.5em;\n",
       "}\n",
       "\n",
       "/* icons */\n",
       "\n",
       "img.icon {\n",
       "  display: inline-block; \n",
       "  width: 18px;\n",
       "  height: 18px;\n",
       "  margin-right: 7px;\n",
       "  margin-bottom: 3px;\n",
       "}\n",
       "\n",
       "img.iconbig {\n",
       "  display: inline-block; \n",
       "  width: 21px;\n",
       "  height: 21px;\n",
       "  margin-right: 7px;\n",
       "  margin-bottom: 3px;\n",
       "}\n",
       "\n",
       "span.invisible_border {\n",
       "  padding: 0.1em;\n",
       "  font-size: 20px;\n",
       "}\n",
       "\n",
       "div.border {\n",
       "  border-color: #666666;\n",
       "  border-left: 1.5px solid;\n",
       "  border-right: 1.5px solid;\n",
       "  border-top: 1.5px solid;\n",
       "  border-bottom: 1.5px solid;\n",
       "  padding: 0.1em;\n",
       "}\n",
       "\n",
       "\n",
       "/* for simple answer / solution*/\n",
       "input.show {\n",
       "  visibility: hidden;\n",
       "}\n",
       "\n",
       "input.hide {\n",
       "  visibility: hidden;\n",
       "}\n",
       "\n",
       "\n",
       "label.answers {\n",
       "  border: 1px solid black;\n",
       "  padding: 1px;\n",
       "}\n",
       "\n",
       "label.show_answer {\n",
       "  background-color: #008CBA;  /* Blue */\n",
       "  border: none;\n",
       "  border-radius: 8px;\n",
       "  color: white;\n",
       "  padding: 3px 10px;\n",
       "  text-align: center;\n",
       "  text-decoration: none;\n",
       "  display: inline-block;\n",
       "  font-size: 12px;\n",
       "}\n",
       "\n",
       "label.hide_answer {\n",
       "  background-color: #b2b2b2; /* Grey */\n",
       "  border: none;\n",
       "  border-radius: 8px;\n",
       "  color: white;\n",
       "  padding: 3px 10px;\n",
       "  text-align: center;\n",
       "  text-decoration: none;\n",
       "  display: inline-block;\n",
       "  font-size: 12px;\n",
       "}\n",
       "\n",
       "\n",
       "span.content {\n",
       "  display:none;\n",
       "}\n",
       "input.show:checked ~ span.content {\n",
       "  display:block;\n",
       "}\n",
       "\n",
       "input.hide:checked ~ span.content {\n",
       "  display:none;\n",
       "}\n",
       "\n",
       "\n",
       "\n",
       "\n",
       "/* Tables & side by side images */\n",
       "\n",
       "/* 2 images side by side */\n",
       ".imgcolumn2 {\n",
       "  float: left;\n",
       "  width: 50.0%;\n",
       "  padding: 5px;\n",
       "}\n",
       "\n",
       "/* 3 images side by side */\n",
       ".imgcolumn3 {\n",
       "  float: left;\n",
       "  width: 33.33%;\n",
       "  padding: 5px;\n",
       "}\n",
       "\n",
       "/* 4 images side by side */\n",
       ".imgcolumn4 {\n",
       "  float: left;\n",
       "  width: 25.0%;\n",
       "  padding: 5px;\n",
       "}\n",
       "\n",
       "\n",
       ".imgrow::after {\n",
       "  content: \"\";\n",
       "  clear: both;\n",
       "  display: table;\n",
       "} \n",
       "\n",
       "figure figcaption {\n",
       "  margin: 3px;\n",
       "  text-align: center;\n",
       "  font-weight: bold;\n",
       "}\n",
       "\n",
       "table {\n",
       "    float: left;\n",
       "    border-style: 1.5px solid black;\n",
       "    border: 1.5px  black solid !important;\n",
       "    color: black !important;\n",
       "}\n",
       "\n",
       "th, td {\n",
       "    text-align: center;\n",
       "    vertical-align: middle;\n",
       "    border: 1.5px  black solid !important;\n",
       "    color: black !important;\n",
       "}\n",
       "\n",
       "\n",
       "\n",
       "#centertable td\n",
       "{\n",
       "    text-align: center; \n",
       "    vertical-align: middle;\n",
       "}\n",
       "\n",
       "#centertable th\n",
       "{\n",
       "    text-align: center; \n",
       "    vertical-align: middle;\n",
       "}\n",
       "</styles>"
      ],
      "text/plain": [
       "<IPython.core.display.HTML object>"
      ]
     },
     "execution_count": 1,
     "metadata": {},
     "output_type": "execute_result"
    }
   ],
   "source": [
    "import sys\n",
    "sys.path.append(\"../src/\") \n",
    "from quiz import start_quiz\n",
    "from utils import css_styling, hide_code\n",
    "from functionplotter import plt_function\n",
    "css_styling()"
   ]
  },
  {
   "cell_type": "markdown",
   "metadata": {},
   "source": [
    "## 1. Kapitelübersicht <a class=\"anchor\" id=\"1\"/>"
   ]
  },
  {
   "cell_type": "markdown",
   "metadata": {},
   "source": [
    "In diesem Kapitel wird ein erster Einblick in das Thema \"Funktionen\" gegeben. Wir gucken uns an, was Funktionen sind und wie wir sie graphisch darstellen können. Weiterhin werden wir uns einen Überblick zu den häufigsten Funktionstypen verschaffen. \n",
    "\n",
    "<b>Abschnittsübersicht</b><br>\n",
    "\n",
    "[1. Kapitelübersicht](#1)<br>\n",
    "[2. Funktionsdefiniton und Funktionsgleichung](#2)<br>\n",
    "[3. Eine Funktion als Graph darstellen](#3)<br>\n",
    "[4. Funktionstypen](#4)<br>\n",
    "\n",
    "\n",
    "<b>Quizübersicht</b><br>\n",
    "[Funktionsdefinitionen Quiz](#q1)<br>\n",
    "[Beispielsituationen visualisieren Quiz](#q2)<br>\n",
    "\n",
    "<b>Behandelte Themen</b><br>\n",
    "- Funktionsdefinition\n",
    "- Funktionsgleichungen und mögliche Schreibweisen\n",
    "- Eine Funktion als Graph darstellen\n",
    "- Elementare Funktionen\n",
    "- Einblick in die häufigsten Funktionstypen"
   ]
  },
  {
   "cell_type": "markdown",
   "metadata": {},
   "source": [
    "## 2. Funktionsdefiniton und Funktionsgleichung <a class=\"anchor\" id=\"2\"/>"
   ]
  },
  {
   "cell_type": "markdown",
   "metadata": {},
   "source": [
    "Sie werden wahrscheinlich verschiedene Vorstellungen von Funktionen haben, je nachdem aus welcher Sicht Sie diese betrachten. Betrachten Sie sie aus der **mathematischen** Sicht, sehen Funktionen wie folgt aus:\n",
    "- $f(x) = x^2$\n",
    "- $f(x) = \\text{max}(x, 0)$\n",
    "\n",
    "Wenn Sie viel programmieren, werden Sie, wenn Sie den Begriff \"Funktion\" hören, an etwas anderes denken. Im Folgenden werden die beiden Funktionen in **Python-Code** dargestellt:\n",
    "```python\n",
    "\n",
    "def square(x):\n",
    "    return x**2\n",
    "\n",
    "def relu(x):\n",
    "    return max(x, 0)\n",
    "\n",
    "```\n",
    "\n",
    "Funktion können auch visuell dargestellt werden, entweder als **Graph** wie im oberen Teil der folgenden Abbildung zu sehen ist oder in einer Art **Kasten**-Darstellung im unteren Teil der Abbildung, die man ab und zu bei der Visualisierung von *Neuronalen Netzen* wiederfindet.[<sup>1</sup>](#fn1)\n",
    "\n",
    "<hr style=\"border: 0.1px solid black;\"/>\n",
    "<span id=\"fn1\" style=\"font-size:8pt; line-height:1\"><sup style=\"font-size:5pt\">1</sup>&nbsp; Beide Grafiken stammen aus folgendem Buch: WEIDMAN, Seth, Deep Learning - Grundlagen und Implementierung, übers. von Jørgen W. LANG, Boston 2020, S. 3.</span><br></span>"
   ]
  },
  {
   "cell_type": "markdown",
   "metadata": {},
   "source": [
    "<img src=\"img/visual_functions_weidman.png\" align=\"left\" style=\"width: 700px;\"></img>"
   ]
  },
  {
   "cell_type": "markdown",
   "metadata": {},
   "source": [
    "Für alle Funktionsbeschreibungen gilt, dass eine Funktion im Wesentlichen eine Beziehung zwischen einigen Eingabewerten und einem Ausgabewert modelliert. Dies wird in der folgenden Grafik dargestellt. Sie ähnelt der **Kasten**-Darstellung von oben.\n",
    "\n",
    "<img src=\"https://upload.wikimedia.org/wikipedia/commons/thumb/3/3b/Function_machine2.svg/800px-Function_machine2.svg.png\" align=\"center\" style=\"width: 200px;\"/>"
   ]
  },
  {
   "cell_type": "markdown",
   "metadata": {},
   "source": [
    "Wir werden zu Beginn dieser Tutorialreihe erst einmal mit Funktionen arbeiten, die nur einen Eingabewert (hier: $x$) erlauben. Im weiteren Verlauf der Tutorialreihe werden wir Funktionen kennenlernen, die mehr als einen Eingabewert übergeben bekommen.  "
   ]
  },
  {
   "cell_type": "markdown",
   "metadata": {},
   "source": [
    "<div class=task>\n",
    "    <b>Aufgabe</b>: Mehr zur Funktionen\n",
    "    <br><br>\n",
    "    Lesen Sie das Kapitel \"Funktionen\" von der Mathe-Lernplattform <a href=\"https://www.mathebibel.de/funktionen\">Mathebibel</a>. Dieses bietet ausführlichere Informationen zur Definition und Erläuterung vom Funktionsbegriff. Beantworten Sie nach dem Lesen des Kapitels das <b>Funktionensdefinitionen Quiz</b>.\n",
    "</div>"
   ]
  },
  {
   "cell_type": "markdown",
   "metadata": {},
   "source": [
    "## Funktionsdefinitionen Quiz <a class=\"anchor\" id=\"q1\"/>"
   ]
  },
  {
   "cell_type": "code",
   "execution_count": 2,
   "metadata": {},
   "outputs": [
    {
     "data": {
      "application/vnd.jupyter.widget-view+json": {
       "model_id": "efc50795c8234729a98fcce981df73c0",
       "version_major": 2,
       "version_minor": 0
      },
      "text/plain": [
       "VBox(children=(Output(), RadioButtons(layout=Layout(width='max-content'), options=(('Nichts, sie beschreiben e…"
      ]
     },
     "metadata": {},
     "output_type": "display_data"
    },
    {
     "data": {
      "application/vnd.jupyter.widget-view+json": {
       "model_id": "14f9396081c34cc1acc7dfb4233c1ec6",
       "version_major": 2,
       "version_minor": 0
      },
      "text/plain": [
       "VBox(children=(Output(), RadioButtons(layout=Layout(width='max-content'), options=(('x-Werte: Definitionsmenge…"
      ]
     },
     "metadata": {},
     "output_type": "display_data"
    },
    {
     "data": {
      "application/vnd.jupyter.widget-view+json": {
       "model_id": "b8a987bb702947e8ab4dcdbe159c2251",
       "version_major": 2,
       "version_minor": 0
      },
      "text/plain": [
       "VBox(children=(Output(), RadioButtons(layout=Layout(width='max-content'), options=(('Wenn sie in der Funktions…"
      ]
     },
     "metadata": {},
     "output_type": "display_data"
    },
    {
     "data": {
      "text/markdown": [
       "---\n",
       "---\n"
      ],
      "text/plain": [
       "<IPython.core.display.Markdown object>"
      ]
     },
     "metadata": {},
     "output_type": "display_data"
    },
    {
     "data": {
      "application/vnd.jupyter.widget-view+json": {
       "model_id": "3ac1ad163dac4862bad1070215d95725",
       "version_major": 2,
       "version_minor": 0
      },
      "text/plain": [
       "VBox(children=(Button(description='Ausgewählte Antworten überprüfen', layout=Layout(width='40%'), style=Button…"
      ]
     },
     "metadata": {},
     "output_type": "display_data"
    }
   ],
   "source": [
    "start_quiz(11, \"calculus\")"
   ]
  },
  {
   "cell_type": "markdown",
   "metadata": {},
   "source": [
    "### Einsteigsbeispiel zu Funktionen\n",
    "\n",
    "Wir möchten eine Funktion erstellen, bei der wir für ein Produkt in einem Online-Shop die Menge eingeben können und den zu bezahlenden Gesamtpreis erhalten. Die Menge ist der Eingabewert $x$ und der Gesamtpreis der Ausgabewert $y$. Eine einfache Funktion für ein Produkt, welches 50€ kostet, wäre folgende Funktion:\n",
    "\n",
    "$y = x \\cdot 50$<br>\n",
    "\n",
    "Wir möchten das Produkt vier Mal kaufen, wir geben also für die Menge $x \\rightarrow 4$ ein und erhalten für den Preis $y \\rightarrow 200$. Nun können wir diese Funktion beliebig erweitern, damit sie die Situation in unserem Online-Shop besser repräsentiert. Da wir die Produkte versenden, möchten wir nun fixe Versandkosten von 5€ für jede Bestellung erheben. Die Funktion für unser Beispielprodukt könnte dann so aussehen:\n",
    "\n",
    "$y = x \\cdot 50 + 5$<br>\n",
    "\n",
    "Nun stellt die Funktion jedoch nur ein Produkt dar, welches 50€ kostet. Wir könnten nun den Preis wie die Menge ebenfalls als Eingabewert betrachten:\n",
    "\n",
    "$y = x \\cdot p + 5$<br>\n",
    "\n",
    "Diese Funktion könnten wir nun beliebig erweitern, um sie unseren Bedürfnissen immer besser anzupassen."
   ]
  },
  {
   "cell_type": "markdown",
   "metadata": {},
   "source": [
    "### Mögliche Schreibweisen für Funktionen\n",
    "\n",
    "Es gibt mehrere mögliche Schreibweisen für Funktionen. In dieser Tutorialreihe werden nur die letzten beiden Schreibweisen verwendet.\n",
    "\n",
    "$f: x \\to 4x+2$<br>\n",
    "$f(x) = 4x+2$<br>\n",
    "$y = 4x+2$<br>\n",
    "\n",
    "Was bedeutet aber $f(x)$? $f(x)$ ist der **Funktionswert** von $x$, wenn etwas für $x$ eingesetzt wird. Dieser Funktionswert kann auch als $y$ bezeichnet werden, die Schreibweisen $f(x)$ und $y$ sind <u>äquivalent</u>. Einem $x$-Wert wird in der Beispielfunktion $4x+2$ ein $y$-Wert zugeordnet. Setzen wir bestimmte Werte für $x$ ein, können wir eine <b>Wertetabelle</b> erstellen, um die entsprechenden y-Werte zu erhalten."
   ]
  },
  {
   "cell_type": "markdown",
   "metadata": {},
   "source": [
    "<table id=\"centertable\">\n",
    "    <tr>\n",
    "        <th>x</th>\n",
    "        <th>1</th>\n",
    "        <th>2</th>\n",
    "        <th>3</th>\n",
    "        <th>4</th>\n",
    "    </tr>\n",
    "    <tr>\n",
    "        <td>y</td>\n",
    "        <td>6</td>\n",
    "        <td>10</td>\n",
    "        <td>14</td>\n",
    "        <td>18</td>\n",
    "    </tr>\n",
    "</table> "
   ]
  },
  {
   "cell_type": "markdown",
   "metadata": {},
   "source": [
    "Wir können also sehen, dass $y$ von den $x$-Werten **abhängig** ist."
   ]
  },
  {
   "cell_type": "markdown",
   "metadata": {},
   "source": [
    "## 3. Eine Funktion als Graph darstellen <a class=\"anchor\" id=\"3\"/>"
   ]
  },
  {
   "cell_type": "markdown",
   "metadata": {},
   "source": [
    "Wir haben bis jetzt gesehen, wie wir Funktionen als **Gleichungen** darstellen können. Wir können Funktionen jedoch auch als **Graphen** darstellen. Dazu benötigt man die Funktionsgleichung, ein Koordinatensystem und eine Wertetabelle. Der Vorgang, wie man damit zum Graphen gelangt, wird am besten durch ein Beispiel verdeutlicht.\n",
    "\n",
    "Gegeben ist die folgende Funktion, die wir bereits im vorherigen Abschnitt als Beispiel verwendet haben:<br>\n",
    "\n",
    "$f(x) = 4x + 2$<br>\n",
    "\n",
    "Wir setzen nun für $x$ beliebige Werte in eine **Wertetabelle** ein. Dabei ist es sinnvoll, sowohl negative als auch positive Werte für $x$ einzusetzen. Außerdem sollte man auch $x = 0$ einsetzen. Wir erweitern deshalb die Wertetabelle aus dem vorherigen Abschnitt:"
   ]
  },
  {
   "cell_type": "markdown",
   "metadata": {},
   "source": [
    "<table id=\"centertable\">\n",
    "    <tr>\n",
    "        <th>$\\textbf{x}$</th>\n",
    "        <td>-4</td>\n",
    "        <td>-3</td>\n",
    "        <td>-2</td>\n",
    "        <td>-1</td>\n",
    "        <td>0</td>\n",
    "        <td>1</td>\n",
    "        <td>2</td>\n",
    "        <td>3</td>\n",
    "        <td>4</td>\n",
    "    </tr>\n",
    "    <tr>\n",
    "        <th>$\\textbf{y}$</th>\n",
    "        <td>-14</td>\n",
    "        <td>-10</td>\n",
    "        <td>-6</td>\n",
    "        <td>-2</td>\n",
    "        <td>2</td>\n",
    "        <td>6</td>\n",
    "        <td>10</td>\n",
    "        <td>14</td>\n",
    "        <td>18</td>\n",
    "    </tr>\n",
    "</table> "
   ]
  },
  {
   "cell_type": "markdown",
   "metadata": {},
   "source": [
    "Anhand der Wertetabelle können wir nun Punkte für unser Koordinatensystem ablesen. Ein Punkt hat immer die Form $(x|y)$. Wir zeichnen nun jeden Punkt in unser Koordinatensystem ein. Die Punkte verbinden wir und erhalten einen Graph:"
   ]
  },
  {
   "cell_type": "markdown",
   "metadata": {},
   "source": [
    "<div class=\"imgrow\">\n",
    "  <div class=\"imgcolumn2\">\n",
    "       <figure>\n",
    "          <img src=\"img/function_examples/function_draw_points.png\" align=\"center\" width=\"300\"/>\n",
    "           <figcaption>a) Punkte einzeichnen</figcaption>\n",
    "    </figure> \n",
    "  </div>\n",
    "  <div class=\"imgcolumn2\">\n",
    "       <figure>\n",
    "          <img src=\"img/function_examples/function_draw_line.png\" align=\"center\" width=\"300\"/>\n",
    "          <figcaption>b) Punkte verbinden</figcaption>\n",
    "    </figure> \n",
    "  </div>\n",
    "</div>"
   ]
  },
  {
   "cell_type": "markdown",
   "metadata": {},
   "source": [
    "So wie wir hier vorgegangen sind, können wir für jede andere Funktionsgleichung auch vorgehen. Bei Funktionen, die Kurven beinhalten, wird die Darstellung des Graphes durch wenige Punkte jedoch sehr \"kantig\". Dort müssen weitaus mehr Punkte angegeben werden, damit der Graph die kurventypischen Rundungen erhält."
   ]
  },
  {
   "cell_type": "markdown",
   "metadata": {},
   "source": [
    "<div class=digression>\n",
    "    <b>Exkurs</b>: Kartesisches Koordinatensystem\n",
    "    <br>\n",
    "    <br>\n",
    "    Das <b>kartesische Koordinatensystem</b> (benannt nach René Descartes) ist ein weit verbreitetes Koordinatensystem. Es besteht im zweidimensionalen Raum aus einer <b>x-Achse</b> (horizontal) und <b>y-Achse</b> (vertikal). Diese sind <i>orthogonal</i> zueinander, d.h. die y-Achse steht senkrecht auf der x-Achse. Durch die Achsen des kartesischen Koordinatensystem entstehen vier Abschnitte, die <b>Quadranten</b> genannt werden. Der Abschnitt rechts oben heißt <b>1. Quadrant</b>, die anderen Abschnitte werden gegen den Uhrzeigersinn durchnummeriert (siehe Abbildung 1). In das Koordinatensystem können <b>Punkte</b> eingetragen werden, die die Form $P(x|y)$ (oder: $P(x,y)$) haben. Jeder Punkt hat also eine x-Koordinate und y-Koordinate (im zweidimensionalen Raum). Um einen Punkt einzuzeichnen, sucht man die x-Koordinate des Punktes auf der x-Achse und geht von dort aus soweit nach oben (oder unten, wenn $y$ negativ ist), bis man auf der Höhe der y-Koordinate ist (siehe in <b>Abbildung 1</b> Punkt $P(3|2)$ ). Der Punkt $(0|0)$ hat einen besonderen Namen und wird <b>Nullpunkt</b> oder <b>Ursprung</b> genannt. <br>\n",
    "    \n",
    "Das kartesische Koordinatensystem kann auch den dreidimensionalen Raum abbilden, bei dem die dritte Dimension durch die <b>z-Achse</b> dargestellt wird (siehe <b>Abbildung 2</b>). Punkte werden in der Form $P(x|y|z)$ abgebildet, wie der Punkt $(3|4|-5)$ in Abbildung 2. Mehr als drei Dimensionen lassen sich mithilfe des kartesischen Koordinatensystems nur schwer abbilden.\n",
    "    \n",
    "    \n",
    "<div class=\"imgrow\">\n",
    "  <div class=\"imgcolumn2\">\n",
    "       <figure>\n",
    "          <img src=\"img/coordinate_system.png\" align=\"center\" style=\"width: 300px;\"/>\n",
    "           <figcaption>Abbildung 1: zweidimensionales Koordinatensystem</figcaption>\n",
    "    </figure> \n",
    "  </div>\n",
    "  <div class=\"imgcolumn2\">\n",
    "       <figure>\n",
    "          <img src=\"img/3d_coordinate_system.png\" align=\"center\" style=\"width: 290px;\"/>\n",
    "          <figcaption>Abbildung 2: dreidimensionales Koordinatensystem</figcaption>\n",
    "    </figure> \n",
    "  </div>\n",
    "</div>    \n",
    "</div>"
   ]
  },
  {
   "cell_type": "markdown",
   "metadata": {},
   "source": [
    "## 4. Funktionstypen <a class=\"anchor\" id=\"4\"/>"
   ]
  },
  {
   "cell_type": "markdown",
   "metadata": {},
   "source": [
    "Es gibt verschiedene Arten (oder Typen) von Funktionen. In dieser Tutorialreihe werden wir uns vorrangig mit sogenannten <b>elementaren Funktionen</b> befassen. <b>Elementare Funktionen</b> sind Funktionen, deren Funktionsgleichung durch einen geschlossenen analytischen Ausdruck dargestellt werden können. Sie sind durch Formeln definiert. Von elementaren Funktionen lässt sich eine Art <b>Stammbaum</b> bilden, der im Folgenden abgebildet ist:<br>\n",
    "    \n",
    "<img src=\"img/elementalfunctions.png\" alt=\"Infos von KEMNITZ, Mathematik zum Studienbeginn, S. 224\" width=\"1000\" /><br>\n",
    "\n",
    "Wir werden im Verlauf dieser Tutorialreihe die Funktionsarten in diesem Stammbaum kennenlernen. In der folgenden Tabelle werden die häufigsten der untergeordneten Funktionstypen (im Stammbaum in blau dargestellt) mit dazugehörigen Formeln und einem Graphenbeispiel alphabetisch sortiert aufgelistet. "
   ]
  },
  {
   "cell_type": "markdown",
   "metadata": {},
   "source": [
    "### Tabelle: Funktionstypen"
   ]
  },
  {
   "cell_type": "markdown",
   "metadata": {},
   "source": [
    "<table id=\"centertable\">\n",
    "    <col width=\"15%\">\n",
    "    <col width=\"25%\">\n",
    "    <col width=\"30%\">\n",
    "    <col width=\"30%\">\n",
    "    <tr>\n",
    "        <th>Funktionstypen</th>\n",
    "        <th>Formel</th>\n",
    "        <th colspan=\"2\">Beispielgraph(en)</th>\n",
    "    </tr>\n",
    "    <tr>\n",
    "        <td>Exponentialfunktion</td>\n",
    "        <td>$f(x) = a^x$<br>\n",
    "            $f(x) = e^x$\n",
    "        </td>\n",
    "        <td>\n",
    "            <img src=\"img/function_examples/exponential_function_example.png\" width=\"200\" />$f(x) = 3^x$\n",
    "        </td>\n",
    "        <td>\n",
    "            <img src=\"img/function_examples/exponential_e_function_example.png\" style=\"width: 200px\"/>$f(x) = e^x$\n",
    "        </td>\n",
    "    </tr>\n",
    "    <tr>\n",
    "        <td>Gebrochenrationale Funktion<br>\n",
    "        </td>\n",
    "        <td>$f(x) = \\frac{a_n x^n + a_{n-1} x^{n-1} + \\dots + a_1 x + a_ 0}{b_m x^m + b_{m-1} x^{m-1} + \\dots + b_1 x + b_ 0}$</td>\n",
    "        <td>\n",
    "            <img src=\"img/function_examples/rational_function_example.png\" style=\"width: 200px\"/>$f(x)=\\frac{1}{x}$<br>\n",
    "        </td>\n",
    "        <td>\n",
    "            <img src=\"img/function_examples/broken_rational_function_example.png\" style=\"width: 200px\"/>$f(x)=\\frac{x^{2}-2x+3}{x^{2}+1x-6}$\n",
    "        </td>\n",
    "    </tr>\n",
    "    <tr>\n",
    "        <td>Konstante Funktion</td>\n",
    "        <td>$f(x) = c$</td>\n",
    "        <td>\n",
    "            <img src=\"img/function_examples/constant_function_example.png\" style=\"width: 200px\"/>$f(x) = 3$\n",
    "        </td>\n",
    "        <td></td>\n",
    "    </tr>\n",
    "    <tr>\n",
    "        <td>Lineare Funktion</td>\n",
    "        <td>$f(x) = m \\cdot x + b$</td>\n",
    "        <td>\n",
    "            <img src=\"img/function_examples/linear_function_example.png\" style=\"width: 200px\"/>$f(x)=2x\\ +2$\n",
    "        </td>\n",
    "        <td></td>\n",
    "    </tr>\n",
    "    <tr>\n",
    "        <td>Logarithmusfunktion</td>\n",
    "        <td>$f(x) = \\log_{a}x$</td>\n",
    "        <td><img src=\"img/function_examples/logarithm_function_example.png\" style=\"width: 200px\"/>$f(x) = \\log_{2}x$\n",
    "        </td>\n",
    "        <td></td>\n",
    "    </tr>\n",
    "    <tr>\n",
    "        <td>Polynomfunktion<br>\n",
    "            (auch: Ganzrationale Funktion)\n",
    "        </td>\n",
    "        <td>$f(x) = a_n\\cdot x^n + a_{n-1}\\cdot x^{n-1}+ … +a_1\\cdot x + a_0$</td>\n",
    "        <td><img src=\"img/function_examples/polynomial_function_example.png\" style=\"width: 200px\"/>$f(x)=x^{3}+3 \\cdot x^{2}+1$\n",
    "        </td>\n",
    "        <td></td>\n",
    "    </tr>\n",
    "    <tr>\n",
    "        <td>Potenzfunktion</td>\n",
    "        <td>$f(x) = a \\cdot x^n$</td>\n",
    "        <td><img src=\"img/function_examples/power_function_example.png\" style=\"width: 200px\"/>$f(x) = 2 \\cdot x^{3}$</td>\n",
    "        <td></td>\n",
    "    </tr>    \n",
    "    <tr>\n",
    "        <td>Sigmoidfunktion</td>\n",
    "        <td>$f(x) = \\frac{1}{1 + e^{-x}}$</td>\n",
    "        <td><img src=\"img/function_examples/sigmoid_function_example.png\" style=\"width: 200px\"/>$f(x) = \\frac{1}{1 + e^{-x}}$</td>\n",
    "        <td></td>\n",
    "    </tr>\n",
    "    <tr>\n",
    "        <td>Trigonometrische Funktion<br><br>\n",
    "            Sinusfunktion<br>\n",
    "            Kosinusfunktion<br>\n",
    "            Tangensfunktion<br>\n",
    "        </td>\n",
    "        <td>$f(x) = \\sin(x)$<br>\n",
    "            $f(x) = \\cos(x)$<br>\n",
    "            $f(x) = \\tan(x)$<br>\n",
    "        </td>\n",
    "        <td>\n",
    "            <img src=\"img/function_examples/sinus_function_example.png\" style=\"width: 200px\"/>$f(x) = \\sin(x)$<br>\n",
    "            <img src=\"img/function_examples/tangens_function_example.png\" style=\"width: 200px\"/>$f(x) = \\tan(x)$<br>\n",
    "        </td>\n",
    "        <td>\n",
    "            <img src=\"img/function_examples/cosinus_function_example.png\" style=\"width: 200px\"/>$f(x) = \\cos(x)$<br>\n",
    "        </td>\n",
    "    </tr>\n",
    "    <tr>\n",
    "        <td>Quadratische Funktion</td>\n",
    "        <td>$f(x) = a \\cdot x^2 + b \\cdot x + c$</td>\n",
    "        <td><img src=\"img/function_examples/quadratic_function_example.png\" style=\"width: 200px\"/>$f(x) = x^2 + x + 1$</td>\n",
    "        <td><img src=\"img/function_examples/quadratic_function_example2.png\" style=\"width: 200px\"/>$f(x) = -a(x-5)^2 + 3$</td>\n",
    "    </tr>\n",
    "</table> "
   ]
  },
  {
   "cell_type": "markdown",
   "metadata": {},
   "source": [
    "## Beispielsituationen visualisieren Quiz <a class=\"anchor\" id=\"q2\"/>"
   ]
  },
  {
   "cell_type": "markdown",
   "metadata": {},
   "source": [
    "<div class=task>\n",
    "    <b>Aufgabe</b>: Beispielsituationen visualisieren Quiz\n",
    "    <br><br>\n",
    "    Bevor wir uns in den nächsten Kapiteln im Detail mit den Funktionstypen auseinandersetzen, sollen Sie nun anhand von Beispielsituationen aus dem Alltag probieren, diesen Situationen den richtigen Funktionen aus einer Menge von unterschiedlichen Funktionstypen zuzuordnen. Beantworten Sie deshalb das <b>Beispielsituationen visualisieren Quiz</b>. Nutzen Sie dafür die folgenden Funktionsgraphen. Machen Sie sich keine Sorgen, wenn Sie bei diesem Quiz nicht jeder Situation den richtigen Funktionsgraphen zugeordnet haben. Es geht hier mehr darum, eine Grundintuition für die Visualisierung von Funktionen mithilfe von Graphen zu schaffen.\n",
    "</div>"
   ]
  },
  {
   "cell_type": "markdown",
   "metadata": {},
   "source": [
    "<div class=\"imgrow\">\n",
    "  <div class=\"imgcolumn3\">\n",
    "       <figure>\n",
    "          <img src=\"img/function_examples/constant_function_example.png\" align=\"center\" style=\"width: 300px;\"/>\n",
    "           <figcaption>Konstante Funktion</figcaption>\n",
    "    </figure> \n",
    "  </div>\n",
    "  <div class=\"imgcolumn3\">\n",
    "       <figure>\n",
    "          <img src=\"img/function_examples/linear_function_example.png\" align=\"center\" style=\"width: 300px;\"/>\n",
    "          <figcaption>Lineare Funktion</figcaption>\n",
    "    </figure> \n",
    "  </div>\n",
    "  <div class=\"imgcolumn3\">\n",
    "       <figure>\n",
    "          <img src=\"img/function_examples/quadratic_function_example2.png\" align=\"center\" style=\"width: 300px;\"/>\n",
    "          <figcaption>Quadratische Funktion</figcaption>\n",
    "    </figure> \n",
    "  </div>\n",
    "  <div class=\"imgcolumn3\">\n",
    "       <figure>\n",
    "          <img src=\"img/function_examples/exponential_function_example.png\" align=\"center\" style=\"width: 300px;\"/>\n",
    "          <figcaption>Exponentialfunktion</figcaption>\n",
    "    </figure> \n",
    "  </div>\n",
    "    <div class=\"imgcolumn3\">\n",
    "       <figure>\n",
    "          <img src=\"img/function_examples/logarithm_function_example.png\" align=\"center\" style=\"width: 300px;\"/>\n",
    "          <figcaption>Logarithmusfunktion</figcaption>\n",
    "    </figure> \n",
    "  </div>\n",
    "    <div class=\"imgcolumn3\">\n",
    "       <figure>\n",
    "          <img src=\"img/function_examples/sinus_function_example2.png\" align=\"center\" style=\"width: 300px;\"/>\n",
    "          <figcaption>Sinusfunktion</figcaption>\n",
    "    </figure> \n",
    "  </div>\n",
    "</div> "
   ]
  },
  {
   "cell_type": "code",
   "execution_count": 3,
   "metadata": {},
   "outputs": [
    {
     "data": {
      "application/vnd.jupyter.widget-view+json": {
       "model_id": "f6603721d7c743eda74e87ac67b8358e",
       "version_major": 2,
       "version_minor": 0
      },
      "text/plain": [
       "VBox(children=(Output(), RadioButtons(layout=Layout(width='max-content'), options=(('Lineare Funktion', 0), ('…"
      ]
     },
     "metadata": {},
     "output_type": "display_data"
    },
    {
     "data": {
      "application/vnd.jupyter.widget-view+json": {
       "model_id": "9719a3a27d4945e688bca474099564f0",
       "version_major": 2,
       "version_minor": 0
      },
      "text/plain": [
       "VBox(children=(Output(), RadioButtons(layout=Layout(width='max-content'), options=(('Lineare Funktion', 0), ('…"
      ]
     },
     "metadata": {},
     "output_type": "display_data"
    },
    {
     "data": {
      "application/vnd.jupyter.widget-view+json": {
       "model_id": "5d3e95d6e8ad4bc6a9f3a4f63fd64cf5",
       "version_major": 2,
       "version_minor": 0
      },
      "text/plain": [
       "VBox(children=(Output(), RadioButtons(layout=Layout(width='max-content'), options=(('Lineare Funktion', 0), ('…"
      ]
     },
     "metadata": {},
     "output_type": "display_data"
    },
    {
     "data": {
      "application/vnd.jupyter.widget-view+json": {
       "model_id": "ff7d128f419b4188a33aca2ede4c561b",
       "version_major": 2,
       "version_minor": 0
      },
      "text/plain": [
       "VBox(children=(Output(), RadioButtons(layout=Layout(width='max-content'), options=(('Exponentialfunktion', 0),…"
      ]
     },
     "metadata": {},
     "output_type": "display_data"
    },
    {
     "data": {
      "text/markdown": [
       "---\n",
       "---\n"
      ],
      "text/plain": [
       "<IPython.core.display.Markdown object>"
      ]
     },
     "metadata": {},
     "output_type": "display_data"
    },
    {
     "data": {
      "application/vnd.jupyter.widget-view+json": {
       "model_id": "522c3aa300dd40b09561c4134e6fbebe",
       "version_major": 2,
       "version_minor": 0
      },
      "text/plain": [
       "VBox(children=(Button(description='Ausgewählte Antworten überprüfen', layout=Layout(width='40%'), style=Button…"
      ]
     },
     "metadata": {},
     "output_type": "display_data"
    }
   ],
   "source": [
    "start_quiz(12, \"calculus\")"
   ]
  },
  {
   "cell_type": "code",
   "execution_count": null,
   "metadata": {},
   "outputs": [],
   "source": []
  }
 ],
 "metadata": {
  "kernelspec": {
   "display_name": "Python 3 (ipykernel)",
   "language": "python",
   "name": "python3"
  },
  "language_info": {
   "codemirror_mode": {
    "name": "ipython",
    "version": 3
   },
   "file_extension": ".py",
   "mimetype": "text/x-python",
   "name": "python",
   "nbconvert_exporter": "python",
   "pygments_lexer": "ipython3",
   "version": "3.9.5"
  },
  "toc": {
   "base_numbering": 1,
   "nav_menu": {},
   "number_sections": false,
   "sideBar": false,
   "skip_h1_title": false,
   "title_cell": "Table of Contents",
   "title_sidebar": "Contents",
   "toc_cell": false,
   "toc_position": {},
   "toc_section_display": false,
   "toc_window_display": false
  }
 },
 "nbformat": 4,
 "nbformat_minor": 4
}
