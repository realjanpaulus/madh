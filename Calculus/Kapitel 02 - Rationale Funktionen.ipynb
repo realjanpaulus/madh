{
 "cells": [
  {
   "cell_type": "markdown",
   "metadata": {},
   "source": [
    "# Kapitel 2 - Rationale Funktionen"
   ]
  },
  {
   "cell_type": "code",
   "execution_count": 6,
   "metadata": {},
   "outputs": [
    {
     "data": {
      "text/html": [
       "<style>/* special fields */\n",
       "\n",
       "\n",
       "/* light blue */ \n",
       "div.digression {    \n",
       "    background-color: #f6f6f6;\n",
       "    border-color: #a1c6de;\n",
       "    border-left: 5px solid #a1c6de;\n",
       "    border-right: 5px solid #a1c6de;\n",
       "    border-top: 5px solid #a1c6de;\n",
       "    border-bottom: 5px solid #a1c6de;\n",
       "    padding: 0.5em;\n",
       "}\n",
       "\n",
       "/* orange */\n",
       "div.note {    \n",
       "    background-color: #f6f6f6;\n",
       "    border-color: #ffb382;\n",
       "    border-left: 5px solid #ffb382;\n",
       "    border-right: 5px solid #ffb382;\n",
       "    border-top: 5px solid #ffb382;\n",
       "    border-bottom: 5px solid #ffb382;\n",
       "    padding: 0.5em;\n",
       "}\n",
       "\n",
       "/* light green */\n",
       "div.task {    \n",
       "    background-color: #f6f6f6;\n",
       "    border-color: #99b898;\n",
       "    border-left: 5px solid #99b898;\n",
       "    border-right: 5px solid #99b898;\n",
       "    border-top: 5px solid #99b898;\n",
       "    border-bottom: 5px solid #99b898;\n",
       "    padding: 0.5em;\n",
       "}\n",
       "\n",
       "div.tool {    \n",
       "    background-color: #f6f6f6;\n",
       "    border-color: #f542e0;\n",
       "    border-left: 7px solid #f542e0;\n",
       "    border-right: 7px solid #f542e0;\n",
       "    border-top: 7px solid #f542e0;\n",
       "    border-bottom: 7px solid #f542e0;\n",
       "    border-style: double;\n",
       "    padding: 0.5em;\n",
       "}\n",
       "\n",
       "/* dark red */\n",
       "div.warn {    \n",
       "    background-color: #f6f6f6;\n",
       "    border-color: #cc1a32;\n",
       "    border-left: 5px solid #cc1a32;\n",
       "    border-right: 5px solid #cc1a32;\n",
       "    border-top: 5px solid #cc1a32;\n",
       "    border-bottom: 5px solid #cc1a32;\n",
       "    padding: 0.5em;\n",
       "}\n",
       "\n",
       "/* icons */\n",
       "\n",
       "img.icon {\n",
       "  display: inline-block; \n",
       "  width: 18px;\n",
       "  height: 18px;\n",
       "  margin-right: 7px;\n",
       "  margin-bottom: 3px;\n",
       "}\n",
       "\n",
       "img.iconbig {\n",
       "  display: inline-block; \n",
       "  width: 21px;\n",
       "  height: 21px;\n",
       "  margin-right: 7px;\n",
       "  margin-bottom: 3px;\n",
       "}\n",
       "\n",
       "span.invisible_border {\n",
       "  padding: 0.1em;\n",
       "  font-size: 20px;\n",
       "}\n",
       "\n",
       "div.border {\n",
       "  border-color: #666666;\n",
       "  border-left: 1.5px solid;\n",
       "  border-right: 1.5px solid;\n",
       "  border-top: 1.5px solid;\n",
       "  border-bottom: 1.5px solid;\n",
       "  padding: 0.1em;\n",
       "}\n",
       "\n",
       "\n",
       "/* for simple answer / solution*/\n",
       "input.show {\n",
       "  visibility: hidden;\n",
       "}\n",
       "\n",
       "input.hide {\n",
       "  visibility: hidden;\n",
       "}\n",
       "\n",
       "\n",
       "label.answers {\n",
       "  border: 1px solid black;\n",
       "  padding: 1px;\n",
       "}\n",
       "\n",
       "label.show_answer {\n",
       "  background-color: #008CBA;  /* Blue */\n",
       "  border: none;\n",
       "  border-radius: 8px;\n",
       "  color: white;\n",
       "  padding: 3px 10px;\n",
       "  text-align: center;\n",
       "  text-decoration: none;\n",
       "  display: inline-block;\n",
       "  font-size: 12px;\n",
       "}\n",
       "\n",
       "label.hide_answer {\n",
       "  background-color: #b2b2b2; /* Grey */\n",
       "  border: none;\n",
       "  border-radius: 8px;\n",
       "  color: white;\n",
       "  padding: 3px 10px;\n",
       "  text-align: center;\n",
       "  text-decoration: none;\n",
       "  display: inline-block;\n",
       "  font-size: 12px;\n",
       "}\n",
       "\n",
       "\n",
       "span.content {\n",
       "  display:none;\n",
       "}\n",
       "input.show:checked ~ span.content {\n",
       "  display:block;\n",
       "}\n",
       "\n",
       "input.hide:checked ~ span.content {\n",
       "  display:none;\n",
       "}\n",
       "\n",
       "\n",
       "\n",
       "\n",
       "/* Tables & side by side images */\n",
       "\n",
       "/* 2 images side by side */\n",
       ".imgcolumn2 {\n",
       "  float: left;\n",
       "  width: 50.0%;\n",
       "  padding: 5px;\n",
       "}\n",
       "\n",
       "/* 3 images side by side */\n",
       ".imgcolumn3 {\n",
       "  float: left;\n",
       "  width: 33.33%;\n",
       "  padding: 5px;\n",
       "}\n",
       "\n",
       "/* 4 images side by side */\n",
       ".imgcolumn4 {\n",
       "  float: left;\n",
       "  width: 25.0%;\n",
       "  padding: 5px;\n",
       "}\n",
       "\n",
       "\n",
       ".imgrow::after {\n",
       "  content: \"\";\n",
       "  clear: both;\n",
       "  display: table;\n",
       "} \n",
       "\n",
       "figure figcaption {\n",
       "  margin: 3px;\n",
       "  text-align: center;\n",
       "  font-weight: bold;\n",
       "}\n",
       "\n",
       "table {\n",
       "    float: left;\n",
       "    border-style: 1.5px solid black;\n",
       "    border: 1.5px  black solid !important;\n",
       "    color: black !important;\n",
       "}\n",
       "\n",
       "th, td {\n",
       "    text-align: center;\n",
       "    vertical-align: middle;\n",
       "    border: 1.5px  black solid !important;\n",
       "    color: black !important;\n",
       "}\n",
       "\n",
       "\n",
       "\n",
       "#centertable td\n",
       "{\n",
       "    text-align: center; \n",
       "    vertical-align: middle;\n",
       "}\n",
       "\n",
       "#centertable th\n",
       "{\n",
       "    text-align: center; \n",
       "    vertical-align: middle;\n",
       "}\n",
       "</styles>"
      ],
      "text/plain": [
       "<IPython.core.display.HTML object>"
      ]
     },
     "execution_count": 6,
     "metadata": {},
     "output_type": "execute_result"
    }
   ],
   "source": [
    "import sys\n",
    "sys.path.append(\"../src/\") \n",
    "from quiz import start_quiz\n",
    "from utils import css_styling, hide_code\n",
    "from functionplotter import plt_function\n",
    "css_styling()"
   ]
  },
  {
   "cell_type": "markdown",
   "metadata": {},
   "source": [
    "## 1. Kapitelübersicht <a class=\"anchor\" id=\"1\"/>"
   ]
  },
  {
   "cell_type": "markdown",
   "metadata": {},
   "source": [
    "In diesem Kapitel werden wir zu Beginn **konstante**, **lineare**, **quadratische Funktionen** sowie **Potenzfunktionen** behandeln. Wir schauen uns dabei die Gleichungen und Graphen der Funktionen genauer an. Wir werden sehen, dass alle diese Funktionen Spezialfälle der **Polynomfunktionen** (auch: **ganzrationale Funktionen**) sind. Wir gucken uns also auch Gemeinsamkeiten der Funktionen an und bilden daraus eine allgemeingültige Definition für alle Polynomfunktionen. Die Polynomfunktionen bzw. ganzrationale Funktionen gehören laut dem Stammbaum aus Kapitel 1 zu den **rationalen Funktionen** (siehe Abbildung). Diesem Funktionstyp sind noch die **gebrochen rationalen Funktionen** untergeordnet, welche am Ende dieses Kapitels behandelt werden.\n",
    "\n",
    "<img src=\"img/elemental_functions2.png\" style=\"width: 1000px\" alt=\"Infos von KEMNITZ, Mathematik zum Studienbeginn, S. 224\"/><br>\n",
    "\n",
    "\n",
    "<b>Abschnittsübersicht</b><br>\n",
    "\n",
    "[1. Kapitelübersicht](#1)<br>\n",
    "[2. Konstante Funktionen](#2)<br>\n",
    "[3. Lineare Funktionen](#3)<br>\n",
    "&nbsp; [3.1. Die Berechnung der Steigung m und des Schnittpunkts mit der y-Achse b](#3-1)<br>\n",
    "&nbsp; [3.2. Von der Formel zum Graphen](#3-2)<br>\n",
    "&nbsp; [3.3. Weitere Besonderheiten von linearen Funktionen](#3-3)<br>\n",
    "[4. Quadratische Funktionen](#4)<br>\n",
    "&nbsp; [4.1. Normalparabel](#4-1)<br>\n",
    "&nbsp; [4.2. Erweiterung der Normalparabel](#4-2)<br>\n",
    "[5. Polynomfunktionen](#5)<br>\n",
    "[6. Potenzfunktionen](#6)<br>\n",
    "[7. Gebrochen rationale Funktionen](#7)<br>\n",
    "\n",
    "<b>Quizübersicht</b><br>\n",
    "[Lineare Funktionen Quiz](#q1)<br>\n",
    "[Normalparabeln Quiz](#q2)<br>\n",
    "\n",
    "<b>Behandelte Themen</b><br>\n",
    "- Konstante Funktionen\n",
    "- Lineare Funktionen\n",
    "- Steigung\n",
    "- y-Achsenabschnitt\n",
    "- Differenzenquotient\n",
    "- Quadratische Funktionen\n",
    "- Normalparabeln\n",
    "- Polynomfunktionen\n",
    "- Grad von Funktionen\n",
    "- Potenzfunktionen\n",
    "- Asymptotisches Verhalten von Graphen\n",
    "- Gebrochen rationale Funktionen"
   ]
  },
  {
   "cell_type": "markdown",
   "metadata": {},
   "source": [
    "## 2. Konstante Funktionen <a class=\"anchor\" id=\"2\"/>"
   ]
  },
  {
   "cell_type": "markdown",
   "metadata": {},
   "source": [
    "Die **konstante Funktion** ist eine der simpleren Funktionstypen. Sie wird durch folgende Gleichung beschrieben:<br>\n",
    "\n",
    "$f(x) = c$\n",
    "\n",
    "$c$ steht dabei für eine Konstante, welche ein beliebige Zahl aus der Menge aller reellen Zahlen sein kann.<br>\n",
    "Das Besondere bei konstanten Funktion ist, dass es <u>keinen</u> Zusammenhang zwischen der Variable $x$ und $c$ gibt, da $x$ gar nicht auf der rechten Seite der Funktion vorkommt! Die Ausgabe der Funktion bleibt **konstant** (daher auch der Name). Anders als andere Funktionen wie z.B. die lineare Funktion modelliert die konstante Funktion also nicht die **Abhängigkeit**, sondern die **Unabhängigkeit zwischen zwei Variablen**."
   ]
  },
  {
   "cell_type": "markdown",
   "metadata": {},
   "source": [
    "<div class=\"task\">\n",
    "    <b>Aufgabe</b>: Konstante Funktionen plotten\n",
    "    <br>\n",
    "    <br> Führen Sie für eine Visualisierung einer <b>konstanten Funktion</b> die folgende Code-Zelle aus und geben Sie mithilfe des Sliders verschiedene Werte für $c$ und $x$ ein. Welchen Einfluss haben $x$ und $c$ auf den Graphen? \n",
    "<br><br>\n",
    "<label for=\"show1\" class=\"show_answer\">\n",
    "    <span>Antwort zeigen</span>\n",
    "</label>\n",
    "<input type=radio id=\"show1\" class=\"show\" name=\"group\"/>\n",
    "<input type=radio id=\"hide1\" class=\"hide\" name=\"group\"/>\n",
    "<span class=\"content\">\n",
    "    <span>$c$ kennzeichnet die Stelle, an welcher der Graph die <b>y-Achse</b> schneidet. Zudem zeigt er die <b>Höhe</b> des Graphen an. $x$ hat <u>keinen</u> Einfluss auf den Graphen oder auf $c$.</span>\n",
    "    <br><br>\n",
    "<label for=\"hide1\" class=\"hide_answer\">\n",
    "    <span>Antwort verbergen</span> \n",
    "</label> \n",
    "</span>\n",
    "</div>"
   ]
  },
  {
   "cell_type": "code",
   "execution_count": 5,
   "metadata": {
    "scrolled": true
   },
   "outputs": [
    {
     "data": {
      "application/vnd.jupyter.widget-view+json": {
       "model_id": "37f96551c85d498d956329c2417a415e",
       "version_major": 2,
       "version_minor": 0
      },
      "text/plain": [
       "interactive(children=(FloatSlider(value=0.0, continuous_update=False, description='c', max=10.0, min=-10.0, re…"
      ]
     },
     "metadata": {},
     "output_type": "display_data"
    }
   ],
   "source": [
    "plt_function(name=\"constant\", space=(-10.0, 10.0), slider_step=1.0)"
   ]
  },
  {
   "cell_type": "markdown",
   "metadata": {},
   "source": [
    "#### Beispiel für eine konstante Funktion\n",
    "\n",
    "Bezogen auf unser Beispiel aus dem vorherigen Kapitel wäre eine mögliche konstante Funktion die Berechnung der Versandkosten bei einem Online-Shop. Angenommen, dass unser Online-Shop fixe Versandkosten für alle Produkte hätte, würde die Funktion $f(\\text{Preis}) = \\text{Versandkosten}$ immer die <u>gleichen</u> Versandkosten zurückgeben:<br>\n",
    "\n",
    "$\\text{0.99€} \\mapsto \\text{5 €}$<br>\n",
    "$\\text{4.99€} \\mapsto \\text{5 €}$<br>\n",
    "$\\text{7.50€} \\mapsto \\text{5 €}$<br>\n",
    "$\\text{119.95€} \\mapsto \\text{5 €}$<br>"
   ]
  },
  {
   "cell_type": "markdown",
   "metadata": {},
   "source": [
    "## 3. Lineare Funktionen <a class=\"anchor\" id=\"3\"/>"
   ]
  },
  {
   "cell_type": "markdown",
   "metadata": {},
   "source": [
    "Die **lineare Funktion** ist auch unter dem Begriff *Geradengleichung* bekannt. Aus dieser Bezeichnung wird deutlich, dass die lineare Funktion graphisch eine **Gerade** darstellt. Anders als die konstante Funktion beschreibt die lineare Funktion die **Abhängigkeit zwischen zwei Variablen**. $f(x)$ wird durch die Variable $x$ beeinflusst, sie ist von $x$ **abhängig**. $x$ selbst ist eine **unabhängige** Variable. Dies bedeutet, dass für $x$ beliebige Werte eingegeben werden können. Bei einer abhängigen Variablen wie $f(x)$ ist dies nicht möglich."
   ]
  },
  {
   "cell_type": "markdown",
   "metadata": {},
   "source": [
    "<div class=\"digression\">\n",
    "    <b>Exkurs</b>: Geraden\n",
    "    <br>\n",
    "    <br>\n",
    "    <b>Geraden</b> sind ein Element aus der Geometrie. Sie sind <b>gerade, unendlich lange</b> Linien, die in keine Richtung begrenzt und unendlich lang sind. Sind zwei Geraden <i>parallel</i> zueinander, haben sie nie einen gemeinsamen Schnittpunkt. Zwei <i>gleiche</i> Geraden haben unendlich viele Schnittpunkte und <i>schneidende</i> Geraden haben genau einen Schnittpunkt.  \n",
    "</div>"
   ]
  },
  {
   "cell_type": "markdown",
   "metadata": {},
   "source": [
    "Lineare Funktionen werden durch die folgende Gleichung beschrieben:<br>\n",
    "\n",
    "$f(x) = m \\cdot x  + b$<br>\n",
    "\n",
    "$x$ und $f(x)$ kennen wir bereits, $m$ und $b$ sind neu. $m$ beschreibt die **Steigung** (engl. *gradient*, *slope*) einer Geraden. Diese gibt an, um wie viele Einheiten sich die y-Koordinate eines Punktes verändert, wenn sich die x-Koordinate dieses Punktes um eine Einheit verändert. Die Steigung einer Geraden misst also, wie **steil** sie *ansteigt* (wenn sie positiv ist) oder *abfällt* (wenn sie negativ ist). Mit $b$ wird der **Schnittpunkt** der Geraden mit der **y-Achse** (engl. *y-intercept*) dargestellt. Wie diese Werte berechnet werden können, sehen wir anhand eines Beispiels im nächsten Abschnitt."
   ]
  },
  {
   "cell_type": "markdown",
   "metadata": {},
   "source": [
    "<div class=\"digression\">\n",
    "    <b>Exkurs</b>: Die Relevanz der Steigung\n",
    "    <br>\n",
    "    <br>\n",
    "    Die <b>Steigung</b> ist eine wichtige Eigenschaft von Funktionen. In der realen Welt gibt es viele Anwendungsfälle, bei denen das Ermitteln der Steigung wichtig ist. Möchte man beispielsweise einen Berg mit einem Fahrrad hinauffahren, ist die <i>ansteigende</i> Steigung der Straße relevant dafür, welchen Gang man verwenden muss. Fährt man einen Berg herunter, wirkt sich die <i>abfallende</i> Steigung auf die Geschwindigkeit aus: Je steiler der Berg abfällt, desto schneller wird das Fahrrad.<br>\n",
    "\n",
    "Auch in einigen Anwendungsfällen in Themengebieten, die in der Digital Humanities behandelt werden, nimmt die Steigung eine prominente Rolle ein. Im Themengebiet des Deep Learning etwa ist die Berechnung der Steigung ein wichtiger Schritt bei der Optimierung von Neuronalen Netzen. Dabei wird jedoch nicht die hier behandelte Steigung verwendet, die man auch <b>konstante Steigung</b> nennt, sondern die sogenannte <b>nicht konstante Steigung</b>. Letztere ist die Steigung von Funktionen, die nicht linear sind. Anders als bei der konstanten Steigung ist die nicht konstante Steigung <u>nicht</u> in jedem Punkt gleich. Eine lineare Funktion (Abbildung 1) besitzt eine konstante Steigung, die Gerade ist immer gleich <i>steil</i>, während bei der Exponentialfunktion (Abbildung 2) die Steigung an verschiedenen Punkten auch <u>verschieden</u> <i>steil</i> ist. Die beiden Arten von Steigungen sind also von der Art der Funktion abhängig. Mit <b>nicht konstanten Steigungen</b> werden wir uns im weiteren Verlauf der Tutorialreihe beschäftigen, wenn wir uns <b>Ableitungen</b> und <b>Differentialgleichungen</b> anschauen.\n",
    "<br><br>\n",
    "\n",
    "<div class=\"imgrow\">\n",
    "  <div class=\"imgcolumn2\">\n",
    "       <figure>\n",
    "          <img src=\"img/function_examples/linear_function_comp.png\" align=\"center\" style=\"width: 200px;\"/>\n",
    "           <figcaption>Abbildung 1: Lineare Funktion $f(x) = x + 0.2$</figcaption>\n",
    "    </figure> \n",
    "  </div>\n",
    "  <div class=\"imgcolumn2\">\n",
    "       <figure>\n",
    "          <img src=\"img/function_examples/exponential_function_comp.png\" align=\"center\" style=\"width: 200px;\"/>\n",
    "          <figcaption>Abbildung 2: Exponentiale Funktion $f(x) = 1.2^x$</figcaption>\n",
    "    </figure> \n",
    "  </div>\n",
    "\n",
    "</div>"
   ]
  },
  {
   "cell_type": "markdown",
   "metadata": {},
   "source": [
    "### 3.1. Die Berechnung der Steigung $m$ und des Schnittpunkts mit der y-Achse $b$ <a class=\"anchor\" id=\"3-1\"/>\n",
    "\n",
    "<img src=\"img/function_types/linear_function_1_empty_graph.png\" align=\"center\"  style=\"width: 300px; height: 300px;\" /><br>\n",
    "\n",
    "Der Graph stellt die Funktion $f(x) = 2 \\cdot x + 2$ dar, wobei $m = 2$ und $b = 2$. Haben wir aber nur den Graphen vorliegen und wollen die Funktion erhalten, müssen wir die Steigung $m$ berechnen. $b$ erhalten wir, indem wir uns einfach den Graphen anschauen und uns notieren, in welchem Punkt die Gerade die y-Achse schneidet. Dies ist hier der Punkt $(0|2)$ (<u>Hinweis</u>: Bei dem Schnittpunkt mit der y-Achse muss die x-Koordinate des Punktes immer $0$ sein). Interessant ist nur die y-Koordinate des Schnittpunktes. Diese ist $2$, weshalb $b =2$ ist. Wir überprüfen das, indem wir für $x$ in unserer Funktion $f(x) = 2 \\cdot x + 2$ eine $0$ eingeben. Wir erhalten $f(x) = 2 \\cdot 0 + 2 = 2$. <br>\n",
    "\n",
    "Für die Berechnung der Steigung brauchen wir den sogenannten **Differenzenquotienten**. Die Formel dafür lautet:<br>\n",
    "\n",
    "$ m=\\dfrac{\\Delta y}{\\Delta x}=\\dfrac{y_2-y_1}{x_2- x_1}$<br>\n",
    "\n",
    "Neben der Formel benötigt man noch zwei Punkte $P(x_1,y_1)$ und $Q(x_2,y_2)$, die auf der Geraden liegen. Welche Punkte das sind, ist vollkommen egal, sie müssen sich nur auf der Gerade befinden. Es empfiehlt sich, Ganzzahlen zu verwenden, damit die Rechnung nicht zu kompliziert wird.\n",
    "\n",
    "<img src=\"img/function_types/linear_function_2_two_labeled_points.png\" align=\"center\"  style=\"width: 300px; height: 300px;\" /><br>\n",
    "\n",
    "Für $P$ wählen wir $(0, 2)$ (= den Schnittpunkt mit der y-Achse) und für $Q$ den Punkt $ (1,4)$. Diese Punkte setzen wir nun in unsere **Differenzenquotienten**-Formel ein:<br>\n",
    "\n",
    "$ m=\\dfrac{4-2}{1-0}=\\dfrac{2}{1}=2$<br>\n",
    "\n",
    "Wir erhalten die Steigung $m = 2$."
   ]
  },
  {
   "cell_type": "markdown",
   "metadata": {},
   "source": [
    "<div class=\"digression\">\n",
    "    <b>Exkurs</b>: Steigungsdreieck\n",
    "    <br>\n",
    "    <br>\n",
    "    Die Steigung lässt sich mit der Formel $ m=\\dfrac{\\Delta y}{\\Delta x}=\\dfrac{y_2-y_1}{x_2 - x_1} $ berechnen. ${\\Delta y}$ und ${\\Delta x}$ (gesprochen: \"Delta y\" und \"Delta x\") beschreiben dabei die <b>Differenz</b> zwischen den jeweiligen Koordinaten der beiden ausgewählten Punkte. Diese Differenzen können als Linien im Graph eingezeichnet werden:<br>\n",
    "<img src=\"https://upload.wikimedia.org/wikipedia/commons/thumb/c/c1/Wiki_slope_in_2d.svg/800px-Wiki_slope_in_2d.svg.png\" style=\"width: 200px;\"/>\n",
    "    \n",
    "Dadurch ergibt sich ein Dreieck, welches <b>Steigungsdreieck</b> genannt wird. Dieses muss nicht zwangsweise mithilfe der Differenzenquotienten-Formel berechnet werden (siehe z.B. den Artikel auf <a href=\"https://www.mathebibel.de/lineare-funktionen-steigung-berechnen\">mathebibel.de</a> für Details zur Berechnung).\n",
    "</div>"
   ]
  },
  {
   "cell_type": "markdown",
   "metadata": {},
   "source": [
    "### 3.2. Von der Formel zum Graphen <a class=\"anchor\" id=\"3-2\"/>"
   ]
  },
  {
   "cell_type": "markdown",
   "metadata": {},
   "source": [
    "Gegeben ist die folgende Gleichung: $f(x) = 3 \\cdot x + 1$\n",
    "\n",
    "Hat man eine lineare Funktionsgleichung vorliegen und möchte einen Graphen zeichnen, sollten folgende Schritte befolgt werden:\n",
    "1. **$b$ als Punkt einzeichnen**. $b$ ist in der vorliegenden Gleichung $1$, d.h. die Punktkoordinate ist $(0|1)$. \n",
    "2. **Steigung $m$ als Bruch $\\frac{m}{n}$ darstellen**. $m$ ist in der vorliegenden Gleichung $3$, die Schreibweise als Bruch ist dementsprechend $\\frac{3}{1}$.\n",
    "3. **Vom Schnittpunkt mit der y-Achse $n$ Schritte nach rechts gehen und $m$ Schritte nach oben ($n$ = Nenner des Steigungsbruchs, $m$ = Zähler des Steigungsbruchs)**. Ist der Steigungsbruch negativ, müssen $m$ Schritte nach unten gegangen werden. In der vorliegenden Gleichung muss also 1 Schritt nach rechts und drei Schritte nach oben gegangen werden.\n",
    "4. **Endpunkt einzeichnen**. Dieser ist ein beliebiger Punkt, der mithilfe der Gleichung ermittelt wird. Hier ist das der Punkt $(1|4)$.\n",
    "5. **Gerade durch die beiden eingezeichneten Punkte zeichnen**. Diese sind hier der Schnittpunkt mit der y-Achse $b$ und der Endpunkt aus dem vorherigen Schritt.\n",
    "\n",
    "Für die gegebene Funktion wird die Vorgehensweise im folgenden GIF dargestellt:<br>\n",
    "\n",
    "<img src=\"img/function_types/linear_function_3_draw_graph.gif\" align=\"center\" style=\"width: 350px;\"/>"
   ]
  },
  {
   "cell_type": "markdown",
   "metadata": {},
   "source": [
    "### 3.3. Weitere Besonderheiten von linearen Funktionen <a class=\"anchor\" id=\"3-3\"/>"
   ]
  },
  {
   "cell_type": "code",
   "execution_count": 3,
   "metadata": {},
   "outputs": [
    {
     "data": {
      "application/vnd.jupyter.widget-view+json": {
       "model_id": "bb99b71256ce43f5b795c7ff90d98ea6",
       "version_major": 2,
       "version_minor": 0
      },
      "text/plain": [
       "interactive(children=(FloatSlider(value=0.0, continuous_update=False, description='m', max=10.0, min=-10.0, re…"
      ]
     },
     "metadata": {},
     "output_type": "display_data"
    }
   ],
   "source": [
    "plt_function(name=\"linear\", space=(-10.0, 10.0), slider_step=1.0)"
   ]
  },
  {
   "cell_type": "markdown",
   "metadata": {},
   "source": [
    "Schauen wir uns nun eine interaktive Visualisierung von linearen Funktionen an.[<sup>1</sup>](#fn1) Abhängig von unserer Auswahl der Werte $m$ und $b$ können bestimmte Erkenntnisse gewonnen werden:<br>\n",
    "* Wenn wir die Steigung $m = 0$ setzen und nur die Werte für $b$ verändern, verhält sich der Graph wie eine **konstante Funktion**. Einige Mathematiker definieren deshalb die konstante Funktion als einen *Spezialfall* der linearen Funktion. \n",
    "* Bei positiven Werten für $m$ steigt die Funktion an, bei negativen Werten für $m$ fällt sie.\n",
    "* Die einfachste lineare Funktion ist $f(x) = x$. Diese erhalten wir, indem wir $m = 1$ und $b = 0$ setzen (Rechnung: $f(x) = 1 \\cdot x + 0$). Diese Gerade verläuft durch den Nullpunkt, also $(0|0)$.\n",
    "* Senkrechte Geraden wie im Bild unten sind **keine** lineare Funktionen, da bei diesen Geraden jedem x-Wert nicht nur <u>ein</u> y-Wert, sondern <u>unendlich</u> viele y-Werte zugeordnet sind. Dies lässt sich auch an der Visualisierung prüfen, da es nicht möglich ist, solche Geraden zu erstellen.\n",
    "\n",
    "<img src=\"img/function_types/vertical_straight_lines.png\" align=\"center\" style=\"width: 250px;\"/>\n",
    "\n",
    "<hr style=\"border: 0.1px solid black;\"/>\n",
    "<span id=\"fn1\" style=\"font-size:8pt; line-height:1\"><sup style=\"font-size:5pt\">1</sup>&nbsp; Es wurde kein Slider für $x$ bereitgestellt, da die $x$-Werte mithilfe von Numpys <a href=\"https://docs.scipy.org/doc/numpy/reference/generated/numpy.linspace.html\">linspace</a> generiert werden. Dabei werden hundert zufällige x-Werte generiert und auf Basis dieser dann der Graph gezeichnet.</span>"
   ]
  },
  {
   "cell_type": "markdown",
   "metadata": {},
   "source": [
    "## Lineare Funktionen Quiz <a class=\"anchor\" id=\"q1\"/>"
   ]
  },
  {
   "cell_type": "markdown",
   "metadata": {},
   "source": [
    "<div class=\"task\">\n",
    "    <b>Aufgabe</b>: Lineare Funktionen Quiz\n",
    "    <br>\n",
    "    <br> Lösen Sie das folgende Quiz \"<b>Lineare Funktionen Quiz</b>\". Das Quiz referenziert auf die Abbildungen 3 bis 8.\n",
    "</div>"
   ]
  },
  {
   "cell_type": "markdown",
   "metadata": {},
   "source": [
    "<div class=\"imgrow\">\n",
    "  <div class=\"imgcolumn3\">\n",
    "       <figure>\n",
    "          <img src=\"img/linear_function_quiz/create_function1.png\" align=\"center\" style=\"width: 300px;\"/>\n",
    "           <figcaption>Abbildung 3: Graph A</figcaption>\n",
    "    </figure> \n",
    "  </div>\n",
    "  <div class=\"imgcolumn3\">\n",
    "       <figure>\n",
    "          <img src=\"img/linear_function_quiz/create_function2.png\" align=\"center\" style=\"width: 300px;\"/>\n",
    "          <figcaption>Abbildung 4: Graph B</figcaption>\n",
    "    </figure> \n",
    "  </div>\n",
    "  <div class=\"imgcolumn3\">\n",
    "       <figure>\n",
    "          <img src=\"img/linear_function_quiz/create_function3.png\" align=\"center\" style=\"width: 300px;\"/>\n",
    "          <figcaption>Abbildung 5: Graph C</figcaption>\n",
    "    </figure> \n",
    "  </div>\n",
    "  <div class=\"imgcolumn3\">\n",
    "       <figure>\n",
    "          <img src=\"img/linear_function_quiz/draw_function1.png\" align=\"center\" style=\"width: 300px;\"/>\n",
    "          <figcaption>Abbildung 6: Graphen D - G</figcaption>\n",
    "    </figure> \n",
    "  </div>\n",
    "    <div class=\"imgcolumn3\">\n",
    "       <figure>\n",
    "          <img src=\"img/linear_function_quiz/draw_function2.png\" align=\"center\" style=\"width: 300px;\"/>\n",
    "          <figcaption>Abbildung 7: Graphen H - K</figcaption>\n",
    "    </figure> \n",
    "  </div>\n",
    "    <div class=\"imgcolumn3\">\n",
    "       <figure>\n",
    "          <img src=\"img/linear_function_quiz/draw_function3.png\" align=\"center\" style=\"width: 300px;\"/>\n",
    "          <figcaption>Abbildung 8: Graphen L - O</figcaption>\n",
    "    </figure> \n",
    "  </div>\n",
    "</div> \n",
    "\n"
   ]
  },
  {
   "cell_type": "code",
   "execution_count": 4,
   "metadata": {},
   "outputs": [
    {
     "data": {
      "application/vnd.jupyter.widget-view+json": {
       "model_id": "a186966598c64b818cceae038f2feed6",
       "version_major": 2,
       "version_minor": 0
      },
      "text/plain": [
       "VBox(children=(Output(), RadioButtons(layout=Layout(width='max-content'), options=(('f(x) = 2x + 6', 0), ('f(x…"
      ]
     },
     "metadata": {},
     "output_type": "display_data"
    },
    {
     "data": {
      "application/vnd.jupyter.widget-view+json": {
       "model_id": "ef0a161d71bb470fb6ac4d3563006211",
       "version_major": 2,
       "version_minor": 0
      },
      "text/plain": [
       "VBox(children=(Output(), RadioButtons(layout=Layout(width='max-content'), options=(('f(x) = 1x - 5', 0), ('f(x…"
      ]
     },
     "metadata": {},
     "output_type": "display_data"
    },
    {
     "data": {
      "application/vnd.jupyter.widget-view+json": {
       "model_id": "aa018a2465104f5b98e917ea5bee31e4",
       "version_major": 2,
       "version_minor": 0
      },
      "text/plain": [
       "VBox(children=(Output(), RadioButtons(layout=Layout(width='max-content'), options=(('f(x) = 3x', 0), ('f(x) = …"
      ]
     },
     "metadata": {},
     "output_type": "display_data"
    },
    {
     "data": {
      "application/vnd.jupyter.widget-view+json": {
       "model_id": "51e24aecc26a4e26ab1ff855104e5697",
       "version_major": 2,
       "version_minor": 0
      },
      "text/plain": [
       "VBox(children=(Output(), RadioButtons(layout=Layout(width='max-content'), options=(('Der lilane Graph', 0), ('…"
      ]
     },
     "metadata": {},
     "output_type": "display_data"
    },
    {
     "data": {
      "application/vnd.jupyter.widget-view+json": {
       "model_id": "a43762e93d664bb58114d29b94cda656",
       "version_major": 2,
       "version_minor": 0
      },
      "text/plain": [
       "VBox(children=(Output(), RadioButtons(layout=Layout(width='max-content'), options=(('Der lilane Graph', 0), ('…"
      ]
     },
     "metadata": {},
     "output_type": "display_data"
    },
    {
     "data": {
      "application/vnd.jupyter.widget-view+json": {
       "model_id": "f75baba1433f43a9ae5858f737d06df0",
       "version_major": 2,
       "version_minor": 0
      },
      "text/plain": [
       "VBox(children=(Output(), RadioButtons(layout=Layout(width='max-content'), options=(('Der lilane Graph', 0), ('…"
      ]
     },
     "metadata": {},
     "output_type": "display_data"
    },
    {
     "data": {
      "text/markdown": [
       "---\n",
       "---\n"
      ],
      "text/plain": [
       "<IPython.core.display.Markdown object>"
      ]
     },
     "metadata": {},
     "output_type": "display_data"
    },
    {
     "data": {
      "application/vnd.jupyter.widget-view+json": {
       "model_id": "d47ca46525e743ffbef70baa0679d879",
       "version_major": 2,
       "version_minor": 0
      },
      "text/plain": [
       "VBox(children=(Button(description='Ausgewählte Antworten überprüfen', layout=Layout(width='40%'), style=Button…"
      ]
     },
     "metadata": {},
     "output_type": "display_data"
    }
   ],
   "source": [
    "start_quiz(21, \"calculus\")"
   ]
  },
  {
   "cell_type": "markdown",
   "metadata": {},
   "source": [
    "## 4. Quadratische Funktionen <a class=\"anchor\" id=\"4\"/>"
   ]
  },
  {
   "cell_type": "markdown",
   "metadata": {},
   "source": [
    "Ein **quadratische Funktion** wird graphisch durch eine **Parabel** dargestellt. Parabeln sind spezielle geometrische Figuren, deren Form eine nach oben (oder unten) offene Kurve ist.\n",
    "\n",
    "<img src=\"img/function_types/normal_parabola.png\" align=\"center\" style=\"width: 250px;\"/>\n",
    "\n",
    "Die Gleichung für quadratische Funktionen lautet wie folgt: <br>\n",
    "\n",
    "$f(x) = ax^2 + bx + c$ <br>\n",
    "\n",
    "Charakteristisch für eine quadratische Funktion ist das **Quadrat** (= $x^2$) in der Gleichung (daher auch der Name). Schauen wir uns zunächst die einfachste quadratische Funktion an, die **Normalparabel**."
   ]
  },
  {
   "cell_type": "markdown",
   "metadata": {},
   "source": [
    "### 4.1. Normalparabel <a class=\"anchor\" id=\"4-1\"/>\n",
    "\n",
    "**Normalparabeln** sind eine spezielle Art von Parabeln. Sie sind symmetrisch zur y-Achse und nach oben offen. Normalparabeln werden durch die folgende Gleichung ausgedrückt:<br>\n",
    "\n",
    "$f(x) = x^2$ <br>\n",
    "\n",
    "Auch wenn es auf dem ersten Blick nicht so aussieht, ist das die selbe Gleichung wie oben. Hier wurde nur für die beiden Variablen $b$ und $c$ eine $0$ und für $a$ eine 1 eingesetzt.[<sup>2</sup>](#fn2) Anhand der Normalparabel kann man sehr schön erkennen, wie man von der Funktion zum Graphen gelangt. Wir setzen zunächst für $x$ verschiedene positive und negative Werte ein und erhalten die die entsprechenden, quadrierten y-Werte in einer **Wertetabelle**:<br>\n",
    "\n",
    "<p>\n",
    "<table id=\"centertable\">\n",
    "    <tr>\n",
    "        <th>x</th>\n",
    "        <td>-3</td>\n",
    "        <td>-2</td>\n",
    "        <td>-1</td>\n",
    "        <td>0</td>\n",
    "        <td>1</td>\n",
    "        <td>2</td>\n",
    "        <td>3</td>\n",
    "    </tr>\n",
    "    <tr>\n",
    "        <th>y</th>\n",
    "        <td>9</td>\n",
    "        <td>4</td>\n",
    "        <td>1</td>\n",
    "        <td>0</td>\n",
    "        <td>1</td>\n",
    "        <td>4</td>\n",
    "        <td>9</td>\n",
    "    </tr>\n",
    "</table> \n",
    "</p>\n",
    "<br><br><br><br>\n",
    "\n",
    "\n",
    "\n",
    "<hr style=\"border: 0.1px solid black;\"/>\n",
    "<span id=\"fn2\" style=\"font-size:8pt; line-height:1\"><sup style=\"font-size:5pt\">2</sup>&nbsp; Rechnung: $f(x) = 1 \\cdot x^2 + 0 \\cdot x + 0 = x^2$</span>"
   ]
  },
  {
   "cell_type": "markdown",
   "metadata": {},
   "source": [
    "Die Werte aus der Wertetabelle zeichnen wir nun in einem Koordinatensystem ein und verbinden sie anschließend (<b>Abbildung 9 &amp; 10</b>). \n",
    "Natürlich würde unsere Parabel in Abbildung 10 etwas eckiger aussehen, da wir nur wenige Punkte angegeben haben. Damit unsere Parabel wirklich so rund wie die Parabel in Abbildung 10 aussieht, müssen viel mehr Punkte angegeben werden (<b>Abbildung 11</b>). In den ersten drei Abbildungen befindet sich die Parabel immer oberhalb der x-Achse. Möchte man die Normalparabel spiegelverkehrt darstellen, muss man die Gleichung mit $-1$ multiplizieren (siehe <b> Abbildung 12</b>): $f(x) = -x^2$<br><br>\n",
    "\n",
    "<div class=\"imgrow\">\n",
    "  <div class=\"imgcolumn4\">\n",
    "       <figure>\n",
    "          <img src=\"img/function_types/normal_parabola_points.png\" align=\"center\" style=\"width: 300px;\"/>\n",
    "           <figcaption>Abbildung 9: Punkte zeichnen</figcaption>\n",
    "    </figure> \n",
    "  </div>\n",
    "  <div class=\"imgcolumn4\">\n",
    "       <figure>\n",
    "          <img src=\"img/function_types/normal_parabola_points_connected.png\" align=\"center\" style=\"width: 300px;\"/>\n",
    "          <figcaption>Abbildung 10: Punkte verbinden</figcaption>\n",
    "    </figure> \n",
    "  </div>\n",
    "  <div class=\"imgcolumn4\">\n",
    "       <figure>\n",
    "          <img src=\"img/function_types/normal_parabola_multiple_points.png\" align=\"center\" style=\"width: 300px;\"/>\n",
    "          <figcaption>Abbildung 11: Mehr Punkte zeichnen</figcaption>\n",
    "    </figure> \n",
    "  </div>\n",
    "    <div class=\"imgcolumn4\">\n",
    "       <figure>\n",
    "          <img src=\"img/function_types/normal_parabola_negative.png\" align=\"center\" style=\"width: 300px;\"/>\n",
    "          <figcaption>Abbildung 12: Negatives Vorzeichen</figcaption>\n",
    "    </figure> \n",
    "  </div>\n",
    "</div>"
   ]
  },
  {
   "cell_type": "markdown",
   "metadata": {},
   "source": [
    "<div class=\"digression\">\n",
    "    <b>Exkurs</b>: Scheitelpunkt, Minimum, Maximum\n",
    "    <br>\n",
    "    <br>\n",
    "    Der <b>Scheitelpunkt</b> beschreibt den höchsten oder tiefsten Punkt einer Funktion. Der tiefste Punkt wird auch <b>Minimum</b> genannt und der höchste Punkt <b>Maximum</b>. Bei Parabeln gibt es nur <u>ein</u> Minimum oder Maximum. Andere Funktionen können aber sowohl ein Minimum als auch ein Maximum besitzen. Ein Beispiel dafür wäre die <b>Polynomfunktion</b> in <b>Abbildung 13</b>. Diese Funktion hat ein Minimum im Punkt $(1|0)$ und ein Maximum im Punkt $(-2|5)$.<br>\n",
    "    \n",
    "Weiterhin gibt es auch Funktionen, die <b>mehrere</b> Minima und Maxima haben. Ein Beispiel dafür wäre die <b>Sinus-Funktion</b> in <b>Abbildung 14</b>. Bei mehreren Minima/Maxima kann es sein, dass sich diese voneinander unterscheiden. Man unterscheidet zwischen <b>lokalen</b> und <b>globalen</b> Minima/Maxima. <b>Lokale</b> Minima/Maxima sind nur an einer gewissen Stelle minimal/maximal. <b>Globale</b> Minima/Maxima sind im Hinblick auf die gesamte Funktion die minimalsten/maximalsten Punkte. Ein Beispiel dafür wäre die Funktion in <b>Abbildung 15</b>. Sie besitzt ein Maximum und zwei Minima, ein lokales (rechts oben) und ein globales Minimum (links unten).<br><br>\n",
    "\n",
    "    \n",
    "    \n",
    "<div class=\"imgrow\">\n",
    "    <div class=\"imgcolumn3\">\n",
    "       <figure>\n",
    "          <img src=\"img/function_examples/polynomial_function_example.png\" align=\"center\" style=\"width: 300px;\"/>\n",
    "           <figcaption>Abbildung 13: $f(x)=x^{3}+3 \\cdot x^{2}+1$</figcaption>\n",
    "        </figure> \n",
    "    </div>\n",
    "    <div class=\"imgcolumn3\">\n",
    "       <figure>\n",
    "          <img src=\"img/function_examples/sinus_function_example.png\" align=\"center\" style=\"width: 300px;\"/>\n",
    "          <figcaption>Abbildung 14: $f(x) = \\sin(x)$</figcaption>\n",
    "        </figure> \n",
    "    </div>\n",
    "    <div class=\"imgcolumn3\">\n",
    "       <figure>\n",
    "          <img src=\"img/function_types/multiple_minima.png\" align=\"center\" style=\"width: 300px;\"/>\n",
    "          <figcaption>Abbildung 15: $f(x) =x^4 + x^3-2x^2 + 3$</figcaption>\n",
    "        </figure> \n",
    "    </div>   \n",
    "</div>    \n",
    "</div>"
   ]
  },
  {
   "cell_type": "markdown",
   "metadata": {},
   "source": [
    "### 4.2. Erweiterung der Normalparabel <a class=\"anchor\" id=\"4-2\"/>"
   ]
  },
  {
   "cell_type": "markdown",
   "metadata": {},
   "source": [
    "Die Normalparabel können wir auch erweitern. Dies können wir auf drei Arten machen:<br>\n",
    "* Die Parabel nach oben oder unten verschieben\n",
    "* Die Parabel nach links oder rechts verschieben\n",
    "* Die Parabel stauchen oder strecken\n",
    "\n",
    "#### 4.2.1. Die Parabel nach oben oder unten verschieben\n",
    "\n",
    "Bis jetzt ist der **Scheitelpunkt** der Parabel immer der *Ursprung* gewesen, d.h. der Punkt $(0|0)$. Dies können wir ändern, indem wir die Gleichung für die Normalparabel um eine konstante Zahl $c$ erweitern:<br>\n",
    "\n",
    "$f(x) = x^2 + c$<br>\n",
    "\n",
    "Damit können wir den Scheitelpunkt und somit die ganze Parabel <b>nach oben verschieben</b>. Möchten wir den Scheitelpunkt <b>nach unten verschieben</b>, müssen wir die Gleichung leicht abwandeln:<br>\n",
    "\n",
    "$f(x) = x^2 - c$<br><br>\n",
    "\n",
    "\n",
    "#### 4.2.2. Die Parabel nach rechts oder links verschieben\n",
    "\n",
    "Um die Parabel entlang der x-Achse nach <b>rechts</b> oder <b>links</b> zu verschieben zu können, muss die Formel für die Normalparabel erneut erweitert werden:<br>\n",
    "\n",
    "$f(x) = (x-d)^2$<br>\n",
    "\n",
    "Wir können diese Formel auch um die konstante Zahl $c$ erweitern:<br>\n",
    "\n",
    "$f(x) = (x-d)^2 + c$<br>\n",
    "\n",
    "\n",
    "Die Normalparabel wird mithilfe der Variable $d$ nach rechts verschoben, wenn $d$ <b>positiv</b> ist und nach links verschoben, wenn $d$ <b>negativ</b> ist.<br><br>\n",
    "\n",
    "#### 4.2.3. Die Parabel strecken oder stauchen\n",
    "\n",
    "Zuletzt können wir die Parabel auch <b>strecken</b> oder <b>stauchen</b>. Dafür benötigen wir folgende Gleichung:<br>\n",
    "\n",
    "$f(x) = a \\cdot x^2$<br>\n",
    "\n",
    "Der Parameter $a$ ist dabei für die Streckung/Stauchung verantwortlich, je nachdem, welcher Wert für $a$ verwendet wird.<br><br>\n",
    "\n",
    "#### 4.2.4. Die Scheitelpunktform\n",
    "\n",
    "Die Normalparabel und ihre Erweiterungen verwenden die folgende Gleichung:<br>\n",
    "\n",
    "$f(x) = a(x-d)^2 + c$<br>\n",
    "\n",
    "Diese Gleichung wird **Scheitelpunktform** (auch: Scheitelform) genannt. Das Besondere an dieser Scheitelpunktform ist, dass der Scheitelpunkt direkt abgelesen werden kann: $S(d|c)$. Die Scheitelpunktform ist eine Umformung der allgemeinen quadratischen Funktion $f(x) = ax^2 + bx + c$ mithilfe der <b>quadratischen Ergänzung</b>. Die quadratische Ergänzung ist ein Verfahren zum Umformen von Termen, in denen eine Variable quadratisch vorkommt. Wie eine quadratische Ergänzung berechnet wird, kann <a href=\"https://www.mathebibel.de/quadratische-ergaenzung\">hier</a> nachgelesen werden."
   ]
  },
  {
   "cell_type": "markdown",
   "metadata": {},
   "source": [
    "## Normalparabeln Quiz <a class=\"anchor\" id=\"q2\"/><br>\n",
    "\n",
    "<div class=\"task\">\n",
    "    <b>Aufgabe</b>: Normalparabel Quiz\n",
    "    <br>\n",
    "    <br> Lösen Sie das folgende Quiz \"<b>Normalparabeln Quiz</b>\". Benutzen Sie zum Lösen der Aufgaben die interaktive Visualisierung der Normalparabel in der folgenden Code-Zelle.\n",
    "</div>"
   ]
  },
  {
   "cell_type": "code",
   "execution_count": 5,
   "metadata": {},
   "outputs": [
    {
     "data": {
      "application/vnd.jupyter.widget-view+json": {
       "model_id": "500aeae45c334179b3cdd2edb26f3c1f",
       "version_major": 2,
       "version_minor": 0
      },
      "text/plain": [
       "interactive(children=(FloatSlider(value=0.0, continuous_update=False, description='a', max=10.0, min=-10.0, re…"
      ]
     },
     "metadata": {},
     "output_type": "display_data"
    }
   ],
   "source": [
    "plt_function(name=\"normal_parabola\", space=(-10.0, 10.0), slider_step=0.1)"
   ]
  },
  {
   "cell_type": "code",
   "execution_count": 6,
   "metadata": {},
   "outputs": [
    {
     "data": {
      "application/vnd.jupyter.widget-view+json": {
       "model_id": "91ad42838bb0444791a6465013829053",
       "version_major": 2,
       "version_minor": 0
      },
      "text/plain": [
       "VBox(children=(Output(), RadioButtons(layout=Layout(width='max-content'), options=(('a', 0), ('c', 1), ('d', 2…"
      ]
     },
     "metadata": {},
     "output_type": "display_data"
    },
    {
     "data": {
      "application/vnd.jupyter.widget-view+json": {
       "model_id": "fa88ba3e127640e9a7b6d8b9d78d204f",
       "version_major": 2,
       "version_minor": 0
      },
      "text/plain": [
       "VBox(children=(Output(), RadioButtons(layout=Layout(width='max-content'), options=(('a', 0), ('c', 1), ('d', 2…"
      ]
     },
     "metadata": {},
     "output_type": "display_data"
    },
    {
     "data": {
      "application/vnd.jupyter.widget-view+json": {
       "model_id": "9e4a2ac53e7148cbbf1ad7635dde2001",
       "version_major": 2,
       "version_minor": 0
      },
      "text/plain": [
       "VBox(children=(Output(), RadioButtons(layout=Layout(width='max-content'), options=(('a', 0), ('c', 1), ('d', 2…"
      ]
     },
     "metadata": {},
     "output_type": "display_data"
    },
    {
     "data": {
      "application/vnd.jupyter.widget-view+json": {
       "model_id": "68bf44a88c6c4d1bb7ef3fb66ff2e42e",
       "version_major": 2,
       "version_minor": 0
      },
      "text/plain": [
       "VBox(children=(Output(), RadioButtons(layout=Layout(width='max-content'), options=(('a > 1', 0), ('a < -1', 1)…"
      ]
     },
     "metadata": {},
     "output_type": "display_data"
    },
    {
     "data": {
      "application/vnd.jupyter.widget-view+json": {
       "model_id": "75b7b2a251364fe6826911732b926af5",
       "version_major": 2,
       "version_minor": 0
      },
      "text/plain": [
       "VBox(children=(Output(), RadioButtons(layout=Layout(width='max-content'), options=(('a > 1', 0), ('a < -1', 1)…"
      ]
     },
     "metadata": {},
     "output_type": "display_data"
    },
    {
     "data": {
      "application/vnd.jupyter.widget-view+json": {
       "model_id": "dce9a588db7d40f6ad3d4aea8562e446",
       "version_major": 2,
       "version_minor": 0
      },
      "text/plain": [
       "VBox(children=(Output(), RadioButtons(layout=Layout(width='max-content'), options=(('a > 1', 0), ('a < -1', 1)…"
      ]
     },
     "metadata": {},
     "output_type": "display_data"
    },
    {
     "data": {
      "application/vnd.jupyter.widget-view+json": {
       "model_id": "9ed822ea4a5543719d6be0ebc1105fec",
       "version_major": 2,
       "version_minor": 0
      },
      "text/plain": [
       "VBox(children=(Output(), RadioButtons(layout=Layout(width='max-content'), options=(('a = 1, c = 0, d = 2', 0),…"
      ]
     },
     "metadata": {},
     "output_type": "display_data"
    },
    {
     "data": {
      "text/markdown": [
       "---\n",
       "---\n"
      ],
      "text/plain": [
       "<IPython.core.display.Markdown object>"
      ]
     },
     "metadata": {},
     "output_type": "display_data"
    },
    {
     "data": {
      "application/vnd.jupyter.widget-view+json": {
       "model_id": "e361cf8d139343d9a540c4aa109f5e46",
       "version_major": 2,
       "version_minor": 0
      },
      "text/plain": [
       "VBox(children=(Button(description='Ausgewählte Antworten überprüfen', layout=Layout(width='40%'), style=Button…"
      ]
     },
     "metadata": {},
     "output_type": "display_data"
    }
   ],
   "source": [
    "start_quiz(22, \"calculus\")"
   ]
  },
  {
   "cell_type": "markdown",
   "metadata": {},
   "source": [
    "## 5. Polynomfunktionen <a class=\"anchor\" id=\"5\"/> "
   ]
  },
  {
   "cell_type": "markdown",
   "metadata": {},
   "source": [
    "In Kapitel 3.3 ist uns aufgefallen, dass wir die lineare Funktion auch als konstante Funktion ausdrücken können, wenn wir $m = 0$ setzen. Dadurch ergibt sich die folgende Gleichung:<br>\n",
    "\n",
    "$f(x) = 0 \\cdot x + b = b$<br>\n",
    "\n",
    "Diese Gleichung ist im Grunde dieselbe wie die Gleichung für die konstante Funktion, da wir $b$ natürlich einfach auch durch $c$ darstellen können:<br>\n",
    "\n",
    "$f(x) = c$<br>\n",
    "\n",
    "Nun stellt sich die Frage, ob wir auch die quadratische Funktion als konstante Funktion oder sogar als lineare Funktion ausdrücken können. Schauen wir uns dazu die Visualisierung der quadratischen Funktion in der folgenden Code-Zelle an."
   ]
  },
  {
   "cell_type": "code",
   "execution_count": 7,
   "metadata": {},
   "outputs": [
    {
     "data": {
      "application/vnd.jupyter.widget-view+json": {
       "model_id": "a87f567b27f04a5892e38a168a23693d",
       "version_major": 2,
       "version_minor": 0
      },
      "text/plain": [
       "interactive(children=(FloatSlider(value=0.0, continuous_update=False, description='a', max=10.0, min=-10.0, re…"
      ]
     },
     "metadata": {},
     "output_type": "display_data"
    }
   ],
   "source": [
    "plt_function(name=\"quadratic\", space=(-10.0, 10.0), slider_step=0.1)"
   ]
  },
  {
   "cell_type": "markdown",
   "metadata": {},
   "source": [
    "Lassen wir $a = 0$ und  $b = 0$, ist der geplottete Graph eine **konstante Funktion**, deren Schnittpunkt mit der y-Achse wir mit $c$ steuern können. Lassen wir nur $a = 0$, ist der geplottete Graph eine **lineare Funktion**, wobei $b$ die Steigung des Graphen angibt. Schauen wir uns noch einmal die Gleichungen für die verschiedenen Funktionen an (die Parameter $m$ und $b$ wurden bei der linearen Funktion durch $b$ und $c$ ausgetauscht):<br>\n",
    "\n",
    "<p>\n",
    "<table id=\"centertable\">\n",
    "    <tr>\n",
    "        <th>Konstante Funktion</th>\n",
    "        <td>$f(x) = c$</td>\n",
    "    </tr>\n",
    "    <tr>\n",
    "        <th>Lineare Funktion</th>\n",
    "        <td>$f(x) = b \\cdot x + c$</td>\n",
    "    </tr>\n",
    "    <tr>\n",
    "        <th>Quadratische Funktion</th>\n",
    "        <td>$f(x) = a \\cdot x^2 + b \\cdot x + c$</td>\n",
    "    </tr>\n",
    "</table> \n",
    "</p>"
   ]
  },
  {
   "cell_type": "markdown",
   "metadata": {},
   "source": [
    "Die Funktionen scheinen immer ähnlich aufgebaut zu sein. Alle Funktionsgleichungen besitzen eine Variable $c$. Weiterhin wird immer ein Summand hinzugefügt, bei dem eine weitere Variable mit $x$ oder $x^n$ multipliziert wird. Diese Gemeinsamkeit zeigt sich auch, wenn man sich die Gleichung der \"Nachfolge\"-Funktion der quadratischen Funktion anschaut, die **kubische Funktion**:<br>\n",
    "\n",
    "$f(x) = ax^3 + bx^2 + cx + d$<br>\n",
    "\n",
    "Ist der ähnliche Aufbau ein Zufall? Nein, denn alle diese Funktionen sind Spezialfälle der **Polynomfunktion** (auch: **Ganzrationale Funktion**). Die Gleichung für die Polynomfunktion ist folgende:<br>\n",
    "\n",
    "$f(x) = a_n\\cdot x^n + a_{n-1}\\cdot x^{n-1} + … + a_1\\cdot x + a_0$\n",
    "\n",
    "Diese Gleichung ist ein **Polynom**. "
   ]
  },
  {
   "cell_type": "markdown",
   "metadata": {},
   "source": [
    "<div class=digression>\n",
    "    <b>Exkurs</b>: Polynome\n",
    "    <br>\n",
    "    <br>\n",
    "    Ein <b>Polynom</b> ist eine Summe von Termen, die jeweils Produkte einer Zahl mit einer Potenz $x^n$ sind. Ein Beispiel wäre folgende Gleichung:<br>\n",
    "    \n",
    "$2x^4 - 5x^3 + 7x^2 - 11x + 8$ <br>\n",
    "    \n",
    "Ein Polynom besteht aus mehreren Komponenten:<br>\n",
    "- <b>Glieder des Polynoms</b>: die einzelnen Summanden, hier: $2x^4$, $- 5x^3$, $7x^2$, $-11x$, $8$\n",
    "- <b>Variablen</b>: hier: $x$\n",
    "- <b>Grad des Polynoms</b>: höchster auftretender Exponent, hier: $4$ (aus dem Glied $2x^4$)\n",
    "- <b>Koeffizienten</b>: die Zahlen, die vor den Variablen stehen, hier: $2$, $5$, $7$, $11$\n",
    "- <b>Absolutglied</b> (auch: *konstantes Glied*): Das Glied ohne Variable, hier: $8$\n",
    "    \n",
    "Das Absolutglied können wir tatsächlich auch als Koeffizienten für die Variable $x^0$ auffassen, da dies für jede Zahl, die wir für $x$ eingeben, $1$ ergibt.\n",
    "</div>"
   ]
  },
  {
   "cell_type": "markdown",
   "metadata": {},
   "source": [
    "Mithilfe dieser Gleichung können wir alle bisherige behandelten Funktionen darstellen. Diese sind alles Polynomfunktionen mit verschiedenen **Graden**:<br>\n",
    "\n",
    "<p>\n",
    "<table id=\"centertable\">\n",
    "    <tr>\n",
    "        <td></td>\n",
    "        <th width=\"10%\">Grad ($n$)</th>\n",
    "        <th width=\"50%\">Gleichung</th>\n",
    "        <th width=\"30%\">bekannte Schreibweise</th>\n",
    "    </tr>\n",
    "    <tr>\n",
    "        <th>Konstante Funktion</th>\n",
    "        <td width=\"10%\">0</td>\n",
    "        <td width=\"50%\">$f(x) = a_n \\cdot x^n$</td>\n",
    "        <td width=\"30%\">$f(x) = c$</td>\n",
    "    </tr>\n",
    "    <tr>\n",
    "        <th>Lineare Funktion</th>\n",
    "        <td width=\"10%\">1</td>\n",
    "        <td width=\"50%\">$f(x) = a_n \\cdot x^n + a_{n-1} \\cdot x^{n-1}$</td>\n",
    "        <td width=\"30%\">$f(x) = m \\cdot x + b$</td>\n",
    "    </tr>\n",
    "    <tr>\n",
    "        <th>Quadratische Funktion</th>\n",
    "        <td width=\"10%\">2</td>\n",
    "        <td width=\"50%\">$f(x) = a_n \\cdot x^n + a_{n-1} \\cdot x^{n-1} + a_{n-2} \\cdot x^{n-2}$</td>\n",
    "        <td width=\"30%\">$f(x) = a \\cdot x^2 + b \\cdot x + c$</td>\n",
    "    </tr>\n",
    "    <tr>\n",
    "        <th>Kubische Funktion</th>\n",
    "        <td width=\"10%\">3</td>\n",
    "        <td width=\"50%\">$f(x) = a_n \\cdot x^n + a_{n-1} \\cdot x^{n-1} + a_{n-2} \\cdot x^{n-2} + a_{n-3} \\cdot x^{n-3}$</td>\n",
    "        <td width=\"30%\">$f(x) = a \\cdot x^3 + b \\cdot x^2 + c \\cdot x + d$</td>\n",
    "    </tr>\n",
    "    <tr>\n",
    "        <th>...</th>\n",
    "        <td width=\"10%\">4</td>\n",
    "        <td width=\"50%\">...</td>\n",
    "        <td width=\"30%\">...</td>\n",
    "    </tr>\n",
    "</table> \n",
    "</p>"
   ]
  },
  {
   "cell_type": "markdown",
   "metadata": {},
   "source": [
    "## 6. Potenzfunktionen <a class=\"anchor\" id=\"6\"/> "
   ]
  },
  {
   "cell_type": "markdown",
   "metadata": {},
   "source": [
    "**Potzenzfunktionen** sind Funktionen, bei denen die Variable $x$ in der Basis einer Potenz steht. Die Gleichung für Potenzfunktionen ist folgende:<br>\n",
    "\n",
    "$f(x) = a \\cdot x^n$"
   ]
  },
  {
   "cell_type": "markdown",
   "metadata": {},
   "source": [
    "#### Verwandschaft mit Polynomfunktionen\n",
    "\n",
    "Diese Gleichung scheint die selbe Gleichung wie die Gleichung für **konstante Funktionen** aus der Tabelle des vorherigen Abschnitts zu sein. Tatsächlich ist die konstante Funktion ein Spezialfall der Potenzfunktion, wenn $n = 0$. Wie die **Polynomfunktionen** hat auch eine Potenzfunktion einen **Grad**, der durch $n$ bestimmt wird. Der Unterschied zu Polynomfunktionen ist das Fehlen des Absolutglieds (= die Zahl ohne $x$ am Ende jeder Funktionsgleichung) und der Summanden, die ein $x$ mit einem verringerten Grad enthalten. \n",
    "\n",
    "Mithilfe der Potenzfunktion erhalten wir einen anderen Blick auf die Polynomfunktionen: Diese setzen sich aus mehreren Potzenfunktionen sowie einem Absolutglied zusammen. Das Absolutglied könnten wir wiederum als Potenzfunktion mit $n = 0$ auffassen. Nach dieser Auffassung besteht eine Polynomfunktion aus Potenzfunktionen mit absteigenden Graden, wobei der Grad nicht kleiner als $0$ sein darf. "
   ]
  },
  {
   "cell_type": "markdown",
   "metadata": {},
   "source": [
    "<div class=task>\n",
    "    <b>Aufgabe</b>: Polynomfunktionen und Potenzfunktionen\n",
    "    <br>\n",
    "    <br> Schauen Sie sich die folgende Gleichung für eine Polynomfunktion an:<br>\n",
    "    \n",
    "$f(x) = a_n \\cdot x^n + a_{n-1} \\cdot x^{n-1} + a_{n-2} \\cdot x^{n-2} + a_{n-3} \\cdot x^{n-3} + a_{n-4} \\cdot x^{n-4} + a_{n-5} \\cdot x^{n-5}$<br>\n",
    "    \n",
    "Aus wievielen <b>Potenzfunktionen</b> ist diese Gleichung zusammengesetzt? Welchen <b>Grad</b> hat die Funktion? Welchen Wert muss $n$ haben, damit die Funktion eine gültige Polynomfunktion ist?\n",
    "<br><br>\n",
    "<label for=\"show2\" class=\"show_answer\">\n",
    "    <span>Antwort zeigen</span>\n",
    "</label>\n",
    "<input type=radio id=\"show2\" class=\"show\" name=\"group\">\n",
    "<input type=radio id=\"hide2\" class=\"hide\" name=\"group\">\n",
    "<span class=\"content\">\n",
    "    <span>Die Gleichung ist aus $6$ Potenzfunktionen zusammengesetzt. Dazu muss einfach die Anzahl der Summanden gezählt werden. Sie hat den Grad $n$, was an der ersten Potenzfunktion erkennbar ist. Damit die Funktion eine gültige Polynomfunktion ist, muss $n = 5$ sein. Wir hatten zuvor definiert, dass eine Polynomfunktion ein Absolutglied hat und der Grad nicht kleiner als $0$ sein darf. Der letzte Summand wird zum Absolutglied, wenn wir $n = 5$ setzen, da $x^{5-5} = x^0 = 1$, somit ist das Absolutglied dann $a_{n-5}$. Setzen wir $n < 5$, wird mindestens ein Exponent eines Summanden kleiner als $0$, was laut der Definition im Abschnitt <b>Verwandschaft mit Polynomfunktionen</b> nicht erlaubt ist. Setzen wir $n > 5$, erhalten wir kein Absolutglied.</span>\n",
    "    <br><br>\n",
    "<label for=\"hide2\" class=\"hide_answer\">\n",
    "    <span>Antwort verbergen</span> \n",
    "</label> \n",
    "</span>\n",
    "</div>"
   ]
  },
  {
   "cell_type": "markdown",
   "metadata": {},
   "source": [
    "### Die Visualisierung von Potenzfunktionen\n",
    "\n",
    "Das Aussehen der Graphen von Potenzfunktionen ist je nach Wahl von $n$ sehr unterschiedlich. Dies wird durch das folgende Visualisierungstool deutlich. Für die Beispiele in der folgenden Tabelle setzen Sie bitte $a = 1$. Geben wir für $a$ ein negatives Vorzeichen an, werden die entsprechenden Graphen gespiegelt."
   ]
  },
  {
   "cell_type": "code",
   "execution_count": 8,
   "metadata": {},
   "outputs": [
    {
     "data": {
      "application/vnd.jupyter.widget-view+json": {
       "model_id": "f925485e1ab54d70a7229b4b3385f157",
       "version_major": 2,
       "version_minor": 0
      },
      "text/plain": [
       "interactive(children=(FloatSlider(value=0.0, continuous_update=False, description='a', max=10.0, min=-10.0, re…"
      ]
     },
     "metadata": {},
     "output_type": "display_data"
    }
   ],
   "source": [
    "plt_function(name=\"power\", space=(-10.0, 10.0), slider_step=1.0)"
   ]
  },
  {
   "cell_type": "markdown",
   "metadata": {},
   "source": [
    "<table id=\"centertable\">\n",
    "<tr>\n",
    "    <td width=\"10%\"></td>\n",
    "    <th width=\"10%\">$\\textbf{n}$</th>\n",
    "    <th width=\"40%\">Beschreibung</th>\n",
    "</tr>\n",
    "<tr>\n",
    "    <td><b>Spezialfall 1</b></td>\n",
    "    <td>$n=0$</td>\n",
    "    <td>Setzen wir $n=0$, wird unsere Potenzfunktion zu einer <b>konstanten Funktion</b>.</td>\n",
    "</tr>\n",
    "<tr>\n",
    "    <td><b>Spezialfall 2</b></td>\n",
    "    <td>$n=1$</td>\n",
    "    <td>Setzen wir $n=1$, erhalten wir neben $n=0$ einen zweiten Sonderfall und unser Graph wird zu einer <b>linearen Funktion</b>, welche durch den Ursprung $(0|0)$ geht. Dies gilt jedoch nur für $n=1$ und <u>nicht</u> für $n=-1$.</td>\n",
    "</tr>\n",
    "<tr>\n",
    "    <td><b>gerader Exponent</b></td>\n",
    "    <td>$n=2, \\\\ n=4, \\\\ n=6, \\\\... $</td>\n",
    "    <td>Ist $n$ <b>positiv</b> und <b>gerade</b>, verläuft die Potenzfunktion durch den 2. Quadranten (links oben) und den 1. Quadranten (rechts oben). Der Graph ist eine <b>Parabel</b>.</td>\n",
    "</tr>\n",
    "<tr>\n",
    "    <td><b>gerader Exponent</b></td>\n",
    "    <td>$n=3, \\\\ n=5, \\\\ n=7, \\\\... $</td>\n",
    "    <td>Ist $n$ <b>positiv</b> und <b>ungerade</b>, verläuft die Potenzfunktion vom 3. Quadranten (links unten) durch den 1. Quadranten (rechts oben). </td>\n",
    "</tr>\n",
    "<tr>\n",
    "    <td><b>ungerader Exponent</b></td>\n",
    "    <td>$n=-2, \\\\ n=-4, \\\\ n=-6, \\\\... $</td>\n",
    "    <td>Ist $n$ <b>negativ</b> und <b>gerade</b>, verläuft die Potenzfunktion durch den 2. Quadranten (links oben) und den 1. Quadranten (rechts oben). Anders als die Potenzfunktionen mit geraden Exponenten berühren die Potenzfunktionen mit ungeraden Exponenten <u>nie</u> die x-Achse und die y-Achse, sie sind <b>asymptotisch</b>.</td>\n",
    "</tr>\n",
    "<tr>\n",
    "    <td><b>ungerader Exponent</b></td>\n",
    "    <td>$n=-1, \\\\ n=-3, \\\\ n=-5, \\\\ n=-7, \\\\... $</td>\n",
    "    <td>Ist $n$ <b>negativ</b> und <b>ungerade</b>, verläuft die Potenzfunktion durch den 1. Quadranten (rechts oben) und durch den 3. Quadranten (links unten). Der Graph ist eine <b>Hyperbel</b> (siehe auch den <a href=\"https://de.wikipedia.org/wiki/Hyperbel_(Mathematik)\">Wikipedia-Artikel</a>).</td>\n",
    "</tr>\n",
    "</table> "
   ]
  },
  {
   "cell_type": "markdown",
   "metadata": {},
   "source": [
    "<div class=\"digression\">\n",
    "    <b>Exkurs</b>: Asymptote\n",
    "    <br>\n",
    "    <br>\n",
    "    Eine <b>Asymptote</b> ist eine Linie, Gerade oder Kurve, der sich der Graph einer Funktion immer weiter annähert, sie aber nicht berührt. Weiteres zu Berechnung und Definition von Asymptoten kann <a href=\"https://www.mathebibel.de/asymptote\">hier</a> nachgelesen werden.\n",
    "</div>"
   ]
  },
  {
   "cell_type": "markdown",
   "metadata": {},
   "source": [
    "### Die Graphen von Potenzfunktionen\n",
    "\n",
    "Während die Graphen der Potenzfunktionen mit positiven Exponenten nicht weiter ungewöhnlich sind, fallen die Graphen der Potenzfunktionen mit negativen Exponenten auf. Sie scheinen aus zwei Teilgraphen zu bestehen, die sich nie berühren und eine Art \"Lücke\" aufweisen. Woran das liegt, wird deutlich, wenn man sich vor Augen führt, dass $x^{-2}$ auch folgendermaßen geschrieben werden kann: $\\frac{1}{x^2}$. \n",
    "\n",
    "Durch die Darstellung als Bruch sollte deutlich werden, dass wir eine bestimmte Zahl für $x$ nicht einsetzen dürfen: die Zahl $0$ (da nicht durch $0$ geteilt werden darf). Da also $x = 0$ nicht möglich ist, wird dementsprechend auch kein y-Wert bei diesen Potenzfunktionen berechnet. Da der y-Achsenabschnitt jedoch immer in der Form $(0|y)$ gegeben ist und $x$ bei jedem y-Achsenabschnitt $0$ ist, geht der Graph <u>nie</u> durch die y-Achse. \n",
    "\n",
    "Gleiches gilt auch für den x-Achsenabschnitt: Egal welchen negativen Wert $x$ wir für die Potenzfunktion[<sup>3</sup>](#fn3) einsetzen, $f(x)$ bzw. $y$ wird <u>niemals</u> $0$ werden.[<sup>4</sup>](#fn4) Dies ist nur möglich, wenn wir $a=0$ setzen, wobei wir wieder eine konstante Funktion erhalten. Die Graphen der Potenzfunktionen mit negativen Exponenten zeigen ein <b>asymptotisches</b> Verhalten gegenüber der x-Achse und y-Achse (siehe Abbildung 16-18).<br><br>\n",
    "\n",
    "\n",
    "<div class=\"imgrow\">\n",
    "  <div class=\"imgcolumn3\">\n",
    "       <figure>\n",
    "          <img src=\"img/function_examples/power_function_odd_negative_exponent.png\" align=\"center\" style=\"width: 300px;\"/>\n",
    "           <figcaption>Abbildung 16: $f(x) = 1 \\cdot x^{-3}$</figcaption>\n",
    "    </figure> \n",
    "  </div>\n",
    "  <div class=\"imgcolumn3\">\n",
    "       <figure>\n",
    "          <img src=\"img/function_examples/power_function_even_negative_exponent.png\" align=\"center\" style=\"width: 300px;\"/>\n",
    "          <figcaption>Abbildung 17: $f(x) = 1 \\cdot x^{-2}$</figcaption>\n",
    "    </figure> \n",
    "  </div>\n",
    "  <div class=\"imgcolumn3\">\n",
    "       <figure>\n",
    "          <img src=\"img/function_examples/asymptote.gif\" align=\"center\" style=\"width: 300px;\"/>\n",
    "          <figcaption>Abbildung 18: Zoom von Abbildung 17</figcaption>\n",
    "           <p>Sobald man näher an eine der Achsen heranzoomt, erkennt man, dass der Graph asymptotisch zur Achse verläuft, sie also nicht berührt.</p>\n",
    "    </figure> \n",
    "    </div>\n",
    "</div>\n",
    "\n",
    "<hr style=\"border: 0.1px solid black;\"/>\n",
    "<span id=\"fn3\" style=\"font-size:8pt; line-height:1\"><sup style=\"font-size:5pt\">3</sup>&nbsp; In dem Fall wäre die Formel für die Potenzfunktion $f(x) = a \\cdot x^{-n} = a \\cdot \\frac{1}{x^n}$.</span><br>\n",
    "<span id=\"fn4\" style=\"font-size:8pt; line-height:1\"><sup style=\"font-size:5pt\">4</sup>&nbsp; Probieren Sie einmal, für den Bruch $\\frac{1}{x}$ eine Zahl für $x$ zu finden, so dass dieser $0$ ergibt. Sie werden scheitern.</span>"
   ]
  },
  {
   "cell_type": "markdown",
   "metadata": {},
   "source": [
    "## 7. Gebrochen rationale Funktionen <a class=\"anchor\" id=\"7\"/> \n",
    "\n",
    "Charakteristisch für **gebrochen rationale Funktionen** ist der Bruch. Die Formel für diese Funktionen lautet:\n",
    "\n",
    "$f(x) = \\dfrac{a_n \\cdot x^n + a_{n-1} \\cdot x^{n-1} + \\dots + a_1 \\cdot x + a_0}{b_m \\cdot x^m + b_{m-1} \\cdot x^{m-1} + \\dots + b_1 \\cdot x + b_0}$\n",
    "\n",
    "\n",
    "Ein gebrochen rationale Funktion kann immer als Quotient zweier ganzer rationaler Funktionen dargestellt werden, sowohl der Zähler als auch der Nenner sind ein **Polynom**. Aufgrund der Tatsache, dass eine gebrochen rationale Funktion einen Bruch enthält, bei welcher sowohl im Zähler als auch im Nenner ein $x$ vorkommt, sind nicht alle Nullstellen jedes $x$ bei einer gebrochen rationalen Funktion definiert. Es ist <u>nicht</u> erlaubt, einen Wert für $x$ einzusetzen, bei welchem der Nenner $0$ wird (da nicht durch $0$ geteilt werden darf). Dies wird durch Abbildung 19 deutlich: $x$ darf nicht $2$ sein, da ansonsten der Nenner $0$ werden würde. Der Graph kommt also nie in den Bereich, wo $x=2$ ist (dargestellt durch die rote Linie).<br><br>\n",
    "\n",
    "\n",
    "<figure>\n",
    "      <img src=\"img/function_types/fractional_rational_function.png\" align=\"center\" style=\"width: 300px;\"/>\n",
    "      <figcaption>Abbildung 19: $f(x) = \\dfrac{x+2}{x-2}$</figcaption>\n",
    "</figure> \n",
    "<br>"
   ]
  },
  {
   "cell_type": "markdown",
   "metadata": {},
   "source": [
    "Gebrochen rationale Funktionen können sehr vielseitig sein, da es viele verschiedene Funktionsparameter geben kann. Dies wird durch das Visualisierungstool in der folgenden Code-Zelle deutlich. Mit diesem ist es jedoch nur möglich, gebrochen-rationale Funktionen in der folgenden Form darzustellen:<br>\n",
    "\n",
    "$f(x) = \\dfrac{a \\cdot x^n + a_0}{b \\cdot x^m + b_0}$<br>\n",
    "\n",
    "Oben haben wir jedoch gesehen, dass es vielmehr als nur zwei Werte für $a$ und $b$ geben kann. Neben der Vielseitigkeit von Funktionsparametern können die Graphen von gebrochen rationalen Funktionen je nach Belegung der Parameter verschiedene Formen annehmen. "
   ]
  },
  {
   "cell_type": "code",
   "execution_count": 9,
   "metadata": {},
   "outputs": [
    {
     "data": {
      "application/vnd.jupyter.widget-view+json": {
       "model_id": "306d65d13ec54d59a0a1777b08acd7ae",
       "version_major": 2,
       "version_minor": 0
      },
      "text/plain": [
       "interactive(children=(FloatSlider(value=0.0, continuous_update=False, description='a', max=10.0, min=-10.0, re…"
      ]
     },
     "metadata": {},
     "output_type": "display_data"
    }
   ],
   "source": [
    "plt_function(name=\"broken_rational\", space=(-10.0, 10.0), slider_step=1.0)"
   ]
  },
  {
   "cell_type": "markdown",
   "metadata": {},
   "source": [
    "<div class=task>\n",
    "    <b>Aufgabe</b>: Die verschiedenen Formen von gebrochen rationalen Funktionsgraphen\n",
    "    <br>\n",
    "    <br> Schauen Sie sich das Visualisierungstool in der vorherigen Code-Zelle an. Stellen Sie die folgenden Parameter ein und benennen Sie die Funktionen (nicht genannte Parameter sollen auf $0$ gesetzt werden):\n",
    "    \n",
    "a) $a, b \\neq 0$ <br>\n",
    "b) $a, b \\neq 0 \\quad n = 1$<br>\n",
    "c) $a, b \\neq 0 \\quad n = 2$<br>\n",
    "d) $a, b \\neq 0 \\quad n = 3$<br>\n",
    "e) $a, b \\neq 0 \\quad n, m = 1$<br>\n",
    "f) $a, b \\neq 0 \\quad n = 2 \\quad m = 1$<br>\n",
    "g) $a, b \\neq 0 \\quad n = 4 \\quad m = 3$<br>\n",
    "h) $a_0, b_0 \\neq 0$ <br>\n",
    "i) $a, b, a_0, b_0 \\neq 0$ <br>\n",
    "\n",
    "<br>\n",
    "<label for=\"show3\" class=\"show_answer\">\n",
    "    <span>Antworten zeigen</span>\n",
    "</label>\n",
    "<input type=radio id=\"show3\" class=\"show\" name=\"group\">\n",
    "<input type=radio id=\"hide3\" class=\"hide\" name=\"group\">\n",
    "<span class=\"content\">\n",
    "    <span>\n",
    "        a) Konstante Funktion<br>\n",
    "        b) Lineare Funktion<br>\n",
    "        c) Quadratische Funktion<br>\n",
    "        d) Kubische Funktion<br>\n",
    "        e) Konstante Funktion<br>\n",
    "        f) Lineare Funktion<br>\n",
    "        g) Lineare Funktion<br>\n",
    "        h) Konstante Funktion<br>\n",
    "        i) Konstante Funktion<br>\n",
    "    </span>\n",
    "    <br>\n",
    "<label for=\"hide3\" class=\"hide_answer\">\n",
    "    <span>Antworten verbergen</span> \n",
    "</label> \n",
    "</span>\n",
    "</div>"
   ]
  },
  {
   "cell_type": "markdown",
   "metadata": {},
   "source": [
    "Weitere Informationen zu gebrochen rationalen Funktionen befinden sich in diesem <a href=\"https://de.serlo.org/mathe/funktionen/wichtige-funktionstypen-ihre-eigenschaften/gebrochen-rationale-funktionen/gebrochenrationale-funktionen#:~:text=Eine%20gebrochenrationale%20Funktion%20ist%20eine,q(x)%20Polynome%20sind\">Artikel</a>."
   ]
  },
  {
   "cell_type": "code",
   "execution_count": null,
   "metadata": {},
   "outputs": [],
   "source": []
  }
 ],
 "metadata": {
  "kernelspec": {
   "display_name": "Python 3 (ipykernel)",
   "language": "python",
   "name": "python3"
  },
  "language_info": {
   "codemirror_mode": {
    "name": "ipython",
    "version": 3
   },
   "file_extension": ".py",
   "mimetype": "text/x-python",
   "name": "python",
   "nbconvert_exporter": "python",
   "pygments_lexer": "ipython3",
   "version": "3.9.5"
  }
 },
 "nbformat": 4,
 "nbformat_minor": 4
}
